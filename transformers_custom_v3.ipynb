{
  "cells": [
    {
      "cell_type": "markdown",
      "metadata": {
        "id": "view-in-github",
        "colab_type": "text"
      },
      "source": [
        "<a href=\"https://colab.research.google.com/github/cld0033/Tone_It_Down/blob/main/transformers_custom_v3.ipynb\" target=\"_parent\"><img src=\"https://colab.research.google.com/assets/colab-badge.svg\" alt=\"Open In Colab\"/></a>"
      ]
    },
    {
      "cell_type": "markdown",
      "source": [
        "# Custom fine-tuneable model for Tone it Down\n",
        "\n",
        "This is the python notebook used to generate a custom Transformers model for the Tone it Down app based on a Hugging Face dataset."
      ],
      "metadata": {
        "id": "MrVOUx5CrFnZ"
      }
    },
    {
      "cell_type": "markdown",
      "source": [
        "## Install relevant packages:"
      ],
      "metadata": {
        "id": "amnkucWi9LjN"
      }
    },
    {
      "cell_type": "code",
      "execution_count": 1,
      "metadata": {
        "colab": {
          "base_uri": "https://localhost:8080/"
        },
        "id": "_rXsPw_h9lAv",
        "outputId": "5028d55d-4691-443c-ac93-2cb08a420f59"
      },
      "outputs": [
        {
          "output_type": "stream",
          "name": "stdout",
          "text": [
            "Collecting fsspec==2024.10.0\n",
            "  Using cached fsspec-2024.10.0-py3-none-any.whl.metadata (11 kB)\n",
            "Using cached fsspec-2024.10.0-py3-none-any.whl (179 kB)\n",
            "Installing collected packages: fsspec\n",
            "  Attempting uninstall: fsspec\n",
            "    Found existing installation: fsspec 2024.9.0\n",
            "    Uninstalling fsspec-2024.9.0:\n",
            "      Successfully uninstalled fsspec-2024.9.0\n",
            "\u001b[31mERROR: pip's dependency resolver does not currently take into account all the packages that are installed. This behaviour is the source of the following dependency conflicts.\n",
            "datasets 3.1.0 requires fsspec[http]<=2024.9.0,>=2023.1.0, but you have fsspec 2024.10.0 which is incompatible.\u001b[0m\u001b[31m\n",
            "\u001b[0mSuccessfully installed fsspec-2024.10.0\n",
            "\u001b[31mERROR: pip's dependency resolver does not currently take into account all the packages that are installed. This behaviour is the source of the following dependency conflicts.\n",
            "gcsfs 2024.10.0 requires fsspec==2024.10.0, but you have fsspec 2024.9.0 which is incompatible.\u001b[0m\u001b[31m\n",
            "\u001b[0m"
          ]
        }
      ],
      "source": [
        "#install if not installed; hide output\n",
        "!pip install fsspec==2024.10.0 #gcsfs 2024.10.0 requires fsspec==2024.10.0, but you have fsspec 2024.9.0 which is incompatible.\n",
        "!pip install datasets -q\n",
        "!pip install transformers -q\n",
        "!pip install torch -q\n",
        "!pip install onnx onnxruntime -q\n",
        "!pip install optimum -q\n",
        "!pip install Cmake -q"
      ]
    },
    {
      "cell_type": "code",
      "execution_count": 4,
      "metadata": {
        "id": "-VjLYwIs9eFH"
      },
      "outputs": [],
      "source": [
        "#import relevant libraries\n",
        "import torch\n",
        "import datasets\n",
        "from transformers import T5ForConditionalGeneration, T5Tokenizer, Trainer, TrainingArguments, EncoderDecoderCache, AutoModelForSequenceClassification, AutoTokenizer\n",
        "from sklearn.model_selection import train_test_split\n",
        "import numpy as np"
      ]
    },
    {
      "cell_type": "markdown",
      "source": [
        "## Load the T5 tokenizer and model"
      ],
      "metadata": {
        "id": "5yvR6QCt9RjT"
      }
    },
    {
      "cell_type": "markdown",
      "source": [
        "Used bert-base-uncased model for classification. Since there were 67 unique labels in the dataset, loaded the model with num_labels=67"
      ],
      "metadata": {
        "id": "CN8fc8FtKHS9"
      }
    },
    {
      "cell_type": "code",
      "execution_count": 5,
      "metadata": {
        "id": "meMEXPkj98bO",
        "colab": {
          "base_uri": "https://localhost:8080/"
        },
        "outputId": "a99129e6-9506-402e-e8a8-6202f411e68e"
      },
      "outputs": [
        {
          "output_type": "stream",
          "name": "stderr",
          "text": [
            "/usr/local/lib/python3.10/dist-packages/huggingface_hub/utils/_auth.py:94: UserWarning: \n",
            "The secret `HF_TOKEN` does not exist in your Colab secrets.\n",
            "To authenticate with the Hugging Face Hub, create a token in your settings tab (https://huggingface.co/settings/tokens), set it as secret in your Google Colab and restart your session.\n",
            "You will be able to reuse this secret in all of your notebooks.\n",
            "Please note that authentication is recommended but still optional to access public models or datasets.\n",
            "  warnings.warn(\n",
            "Some weights of BertForSequenceClassification were not initialized from the model checkpoint at bert-base-uncased and are newly initialized: ['classifier.bias', 'classifier.weight']\n",
            "You should probably TRAIN this model on a down-stream task to be able to use it for predictions and inference.\n"
          ]
        }
      ],
      "source": [
        "#load a tokenizer and training model\n",
        "model_name = \"bert-base-uncased\"\n",
        "tokenizer = AutoTokenizer.from_pretrained(model_name)\n",
        "\n",
        "# Load the model with 67 labels\n",
        "model = AutoModelForSequenceClassification.from_pretrained('bert-base-uncased', num_labels=67)"
      ]
    },
    {
      "cell_type": "markdown",
      "source": [
        "## Load and pre-process a dataset from Huggingface\n",
        "\n",
        "1. Cleaned the dataset by removing the idx column and splitting into a training and validation set\n",
        "2. Mapped each unique label to a unique integer, which is compatible with machine learning models (note - mapping is stored in label_mapping)\n",
        "3. Applied a preprocess function that should tokenize what's in the \"text\""
      ],
      "metadata": {
        "id": "oyGDCW5H9Z7l"
      }
    },
    {
      "cell_type": "code",
      "execution_count": 6,
      "metadata": {
        "id": "5GVp3yYQqnao"
      },
      "outputs": [],
      "source": [
        "#load a dataset\n",
        "dataset = datasets.load_dataset(\"uhoui/text-tone-classifier\")\n",
        "#https://huggingface.co/datasets/uhoui/text-tone-classifier/viewer/default/train?f%5Bidx%5D%5Bmin%5D=80&f%5Bidx%5D%5Bmax%5D=90 <-- I used this one bc of the dataset() function"
      ]
    },
    {
      "cell_type": "code",
      "execution_count": 7,
      "metadata": {
        "id": "FUOHod56x7mU"
      },
      "outputs": [],
      "source": [
        "#remove idx column\n",
        "dataset = dataset.remove_columns(\"idx\")\n",
        "\n",
        "#manually created splits\n",
        "num_samples = len(dataset['train'])\n",
        "train_indices, val_indices = train_test_split(range(num_samples), test_size=0.2, random_state=42)\n",
        "\n",
        "# Create train and validation datasets using select\n",
        "train_dataset = dataset['train'].select(train_indices)\n",
        "val_dataset = dataset['train'].select(val_indices)\n",
        "\n",
        "# Create a DatasetDict with separate splits\n",
        "split_dataset = datasets.DatasetDict({\n",
        "    'train': train_dataset,\n",
        "    'validation': val_dataset\n",
        "})"
      ]
    },
    {
      "cell_type": "code",
      "execution_count": 8,
      "metadata": {
        "colab": {
          "base_uri": "https://localhost:8080/"
        },
        "id": "hWoEVuQHsjWo",
        "outputId": "bca09f4d-201c-4956-f430-859c6dcbc947",
        "collapsed": true
      },
      "outputs": [
        {
          "output_type": "stream",
          "name": "stdout",
          "text": [
            "split dataset: \n",
            " DatasetDict({\n",
            "    train: Dataset({\n",
            "        features: ['text', 'label'],\n",
            "        num_rows: 392\n",
            "    })\n",
            "    validation: Dataset({\n",
            "        features: ['text', 'label'],\n",
            "        num_rows: 99\n",
            "    })\n",
            "})\n"
          ]
        }
      ],
      "source": [
        "#verify that split happened\n",
        "print(\"split dataset: \\n\", split_dataset)"
      ]
    },
    {
      "cell_type": "code",
      "source": [
        "# Verify unique labels across both train and validation sets\n",
        "unique_labels_train = set(split_dataset['train']['label'])\n",
        "unique_labels_val = set(split_dataset['validation']['label'])\n",
        "\n",
        "print(f\"Unique labels in train set: {unique_labels_train}\")\n",
        "print(f\"Unique labels in validation set: {unique_labels_val}\")\n",
        "\n",
        "# Combine the labels from both sets to see the full range\n",
        "unique_labels_all = unique_labels_train.union(unique_labels_val)\n",
        "print(f\"Unique labels in the entire dataset: {unique_labels_all}\")\n",
        "print(len(unique_labels_all))"
      ],
      "metadata": {
        "colab": {
          "base_uri": "https://localhost:8080/"
        },
        "id": "rfoK1S9l1Lly",
        "outputId": "f14534f9-af82-4a34-b403-b51c69afee41"
      },
      "execution_count": 9,
      "outputs": [
        {
          "output_type": "stream",
          "name": "stdout",
          "text": [
            "Unique labels in train set: {'disappointment', 'anxiety', 'adventure', 'connection', 'depression', 'tranquility', 'sadness', 'bittersweetness', 'annoyance', 'surprise', 'Negative', 'admiration', 'stress', 'peace', 'happiness', 'accomplishment', 'Serious', 'relief', 'fear', 'pride', 'parting', 'contentment', 'restlessness', 'Neutral', 'Positive', 'anticipation', 'bliss', 'curiosity', 'comfort', 'joy', 'anger', 'sorrow', 'negative', 'adrenaline', 'worry', 'pleasure', 'compassion', 'nostalgia', 'concern', 'courage', 'despair', 'empathy', 'excitement', 'pain', 'awe', 'grief', 'amusement', 'loneliness', 'Sarcastic', 'determination', 'longing', 'positive', 'chill', 'inspiration', 'disgust', 'gratitude', 'neutral', 'love', 'tension', 'reflection'}\n",
            "Unique labels in validation set: {'disappointment', 'sadness', 'Negative', 'annoyance', 'surprise', 'stress', 'serenity', 'happiness', 'Serious', 'pride', 'fear', 'relief', 'Neutral', 'Positive', 'anticipation', 'elation', 'comfort', 'joy', 'appreciation', 'negative', 'worry', 'heat', 'pleasure', 'nostalgia', 'concern', 'empathy', 'hope', 'rejection', 'awe', 'Sarcastic', 'positive', 'disgust', 'neutral', 'love'}\n",
            "Unique labels in the entire dataset: {'anxiety', 'adventure', 'connection', 'annoyance', 'Negative', 'admiration', 'stress', 'serenity', 'relief', 'pride', 'fear', 'parting', 'Positive', 'bliss', 'sorrow', 'compassion', 'pain', 'grief', 'loneliness', 'Sarcastic', 'determination', 'longing', 'positive', 'disgust', 'neutral', 'love', 'reflection', 'disappointment', 'depression', 'tranquility', 'sadness', 'bittersweetness', 'surprise', 'peace', 'happiness', 'accomplishment', 'Serious', 'contentment', 'restlessness', 'Neutral', 'anticipation', 'curiosity', 'elation', 'comfort', 'joy', 'anger', 'appreciation', 'negative', 'adrenaline', 'worry', 'heat', 'pleasure', 'nostalgia', 'courage', 'concern', 'despair', 'empathy', 'excitement', 'hope', 'rejection', 'awe', 'amusement', 'chill', 'inspiration', 'gratitude', 'tension'}\n",
            "66\n"
          ]
        }
      ]
    },
    {
      "cell_type": "code",
      "source": [
        "from collections import defaultdict\n",
        "\n",
        "# Initialize label_mapping as a defaultdict to avoid key errors\n",
        "label_mapping = defaultdict(lambda: None)  # Default value is None\n",
        "current_label_index = 0\n",
        "\n",
        "# Function to update the labels with integer mapping\n",
        "def update_label(examples):\n",
        "    global current_label_index\n",
        "\n",
        "    # Iterate through the labels and assign integer values\n",
        "    for i, label in enumerate(examples['label']):\n",
        "        if label not in label_mapping:\n",
        "            print(f\"Adding label: {label}\")\n",
        "            label_mapping[label] = current_label_index\n",
        "            current_label_index += 1  # Increment index for the next new label\n",
        "        examples['label'][i] = label_mapping[label]\n",
        "\n",
        "    return examples\n",
        "\n",
        "# Apply label update to both the train and validation sets\n",
        "tokenized_dataset = split_dataset.map(update_label, batched=True)\n",
        "\n",
        "# Print the outputs to inspect the label mapping\n",
        "print(\"preview of dataset: \", tokenized_dataset[\"validation\"][1:10])\n",
        "print(\"labels: \", unique_labels_all)\n",
        "print(\"label mapping: \", dict(label_mapping))  # Convert defaultdict to dict for printing\n"
      ],
      "metadata": {
        "id": "A1icFgO2mRO0",
        "colab": {
          "base_uri": "https://localhost:8080/",
          "height": 730,
          "referenced_widgets": [
            "037e37e2a44b48a1a6630c672579569a",
            "97af5484c58c41dfa6c456fbefdd3755",
            "7ff22b8dc6e2497eb3102e28ccb1546e",
            "8fc4cd46969744bc9ebbef475747e476",
            "7d353e1741da4fc3bb2c0e9b20fe1c79",
            "092f963453cc4b558b0ca67eb052d636",
            "bcb6d1a05dfb4bdd8da786b210fe07b2",
            "3020120cbc8c414389aa316012f9930b",
            "a9a5d97063ac443ba871703b40e49998",
            "efb9b037257d4b52a4f292221da1bc17",
            "701f135d90c349aa81cd010ed6070266"
          ]
        },
        "outputId": "5a1f0baa-cf4b-4009-8baf-67ab9a12cc89"
      },
      "execution_count": 10,
      "outputs": [
        {
          "output_type": "display_data",
          "data": {
            "text/plain": [
              "Map:   0%|          | 0/99 [00:00<?, ? examples/s]"
            ],
            "application/vnd.jupyter.widget-view+json": {
              "version_major": 2,
              "version_minor": 0,
              "model_id": "037e37e2a44b48a1a6630c672579569a"
            }
          },
          "metadata": {}
        },
        {
          "output_type": "stream",
          "name": "stdout",
          "text": [
            "Adding label: Negative\n",
            "Adding label: worry\n",
            "Adding label: Sarcastic\n",
            "Adding label: Neutral\n",
            "Adding label: fear\n",
            "Adding label: joy\n",
            "Adding label: positive\n",
            "Adding label: pleasure\n",
            "Adding label: appreciation\n",
            "Adding label: negative\n",
            "Adding label: disgust\n",
            "Adding label: Serious\n",
            "Adding label: Positive\n",
            "Adding label: empathy\n",
            "Adding label: love\n",
            "Adding label: annoyance\n",
            "Adding label: awe\n",
            "Adding label: disappointment\n",
            "Adding label: sadness\n",
            "Adding label: hope\n",
            "Adding label: surprise\n",
            "Adding label: pride\n",
            "Adding label: stress\n",
            "Adding label: serenity\n",
            "Adding label: happiness\n",
            "Adding label: nostalgia\n",
            "Adding label: concern\n",
            "Adding label: rejection\n",
            "Adding label: heat\n",
            "Adding label: relief\n",
            "Adding label: comfort\n",
            "Adding label: anticipation\n",
            "Adding label: elation\n",
            "Adding label: neutral\n",
            "preview of dataset:  {'text': [\"I can't stop thinking about the negative consequences of climate change on future generations. It's truly worrisome.\", 'Absolutely thrilled to be stuck in traffic.', \"I'm positively overjoyed to spend hours waiting for a friend who's always late.\", 'Review the latest financial report for our meeting next week.', 'Seeing a snake in the grass on a dark path gives me chills and I freeze up for a moment.', 'Just won the lottery! Best day ever!', 'Grateful for the overwhelming support during tough times.', 'Oh joy, my computer crashed again just as I was about to save my work.', 'I was utterly captivated by the enchanting performance.'], 'label': [1, 2, 2, 3, 4, 5, 6, 2, 6]}\n",
            "labels:  {'anxiety', 'adventure', 'connection', 'annoyance', 'Negative', 'admiration', 'stress', 'serenity', 'relief', 'pride', 'fear', 'parting', 'Positive', 'bliss', 'sorrow', 'compassion', 'pain', 'grief', 'loneliness', 'Sarcastic', 'determination', 'longing', 'positive', 'disgust', 'neutral', 'love', 'reflection', 'disappointment', 'depression', 'tranquility', 'sadness', 'bittersweetness', 'surprise', 'peace', 'happiness', 'accomplishment', 'Serious', 'contentment', 'restlessness', 'Neutral', 'anticipation', 'curiosity', 'elation', 'comfort', 'joy', 'anger', 'appreciation', 'negative', 'adrenaline', 'worry', 'heat', 'pleasure', 'nostalgia', 'courage', 'concern', 'despair', 'empathy', 'excitement', 'hope', 'rejection', 'awe', 'amusement', 'chill', 'inspiration', 'gratitude', 'tension'}\n",
            "label mapping:  {'Negative': 0, 'worry': 1, 'Sarcastic': 2, 'Neutral': 3, 'fear': 4, 'joy': 5, 'positive': 6, 'pleasure': 7, 'appreciation': 8, 'negative': 9, 'disgust': 10, 'Serious': 11, 'Positive': 12, 'empathy': 13, 'love': 14, 'annoyance': 15, 'awe': 16, 'disappointment': 17, 'sadness': 18, 'hope': 19, 'surprise': 20, 'pride': 21, 'stress': 22, 'serenity': 23, 'happiness': 24, 'nostalgia': 25, 'concern': 26, 'rejection': 27, 'heat': 28, 'relief': 29, 'comfort': 30, 'anticipation': 31, 'elation': 32, 'neutral': 33}\n"
          ]
        }
      ]
    },
    {
      "cell_type": "code",
      "source": [
        "print(\"preview of dataset: \", tokenized_dataset[\"validation\"][1:10])\n",
        "print(\"labels: \", unique_labels_all)\n",
        "print(\"label mapping: \", label_mapping)"
      ],
      "metadata": {
        "colab": {
          "base_uri": "https://localhost:8080/"
        },
        "id": "s0izWuwQXozt",
        "outputId": "1f61ccce-e345-4a69-a897-ab7f59bd79ad"
      },
      "execution_count": 13,
      "outputs": [
        {
          "output_type": "stream",
          "name": "stdout",
          "text": [
            "preview of dataset:  {'text': [\"I can't stop thinking about the negative consequences of climate change on future generations. It's truly worrisome.\", 'Absolutely thrilled to be stuck in traffic.', \"I'm positively overjoyed to spend hours waiting for a friend who's always late.\", 'Review the latest financial report for our meeting next week.', 'Seeing a snake in the grass on a dark path gives me chills and I freeze up for a moment.', 'Just won the lottery! Best day ever!', 'Grateful for the overwhelming support during tough times.', 'Oh joy, my computer crashed again just as I was about to save my work.', 'I was utterly captivated by the enchanting performance.'], 'label': [1, 2, 2, 3, 4, 5, 6, 2, 6]}\n",
            "labels:  {'anxiety', 'adventure', 'connection', 'annoyance', 'Negative', 'admiration', 'stress', 'serenity', 'relief', 'pride', 'fear', 'parting', 'Positive', 'bliss', 'sorrow', 'compassion', 'pain', 'grief', 'loneliness', 'Sarcastic', 'determination', 'longing', 'positive', 'disgust', 'neutral', 'love', 'reflection', 'disappointment', 'depression', 'tranquility', 'sadness', 'bittersweetness', 'surprise', 'peace', 'happiness', 'accomplishment', 'Serious', 'contentment', 'restlessness', 'Neutral', 'anticipation', 'curiosity', 'elation', 'comfort', 'joy', 'anger', 'appreciation', 'negative', 'adrenaline', 'worry', 'heat', 'pleasure', 'nostalgia', 'courage', 'concern', 'despair', 'empathy', 'excitement', 'hope', 'rejection', 'awe', 'amusement', 'chill', 'inspiration', 'gratitude', 'tension'}\n",
            "label mapping:  defaultdict(<function <lambda> at 0x7d690c76b2e0>, {'Negative': 0, 'worry': 1, 'Sarcastic': 2, 'Neutral': 3, 'fear': 4, 'joy': 5, 'positive': 6, 'pleasure': 7, 'appreciation': 8, 'negative': 9, 'disgust': 10, 'Serious': 11, 'Positive': 12, 'empathy': 13, 'love': 14, 'annoyance': 15, 'awe': 16, 'disappointment': 17, 'sadness': 18, 'hope': 19, 'surprise': 20, 'pride': 21, 'stress': 22, 'serenity': 23, 'happiness': 24, 'nostalgia': 25, 'concern': 26, 'rejection': 27, 'heat': 28, 'relief': 29, 'comfort': 30, 'anticipation': 31, 'elation': 32, 'neutral': 33})\n"
          ]
        }
      ]
    },
    {
      "cell_type": "code",
      "source": [
        "print(\"pre-filter header: \\n\", split_dataset['train'].take(10).to_pandas())\n",
        "print(\"post-filter header: \\n\", tokenized_dataset['train'].take(10).to_pandas())"
      ],
      "metadata": {
        "colab": {
          "base_uri": "https://localhost:8080/"
        },
        "id": "aiDSA_4MMrtU",
        "outputId": "6501be86-1c2a-431c-bb17-e8a4a8b0beba"
      },
      "execution_count": 15,
      "outputs": [
        {
          "output_type": "stream",
          "name": "stdout",
          "text": [
            "pre-filter header: \n",
            "                                                 text         label\n",
            "0  My chest tightens with the fear of confrontati...          fear\n",
            "1  Today's menu includes salad, soup, and sandwic...       Neutral\n",
            "2  I'm thrilled to announce that my application w...      Positive\n",
            "3  Looking forward to the annual 'Employee of the...     Sarcastic\n",
            "4  Why does this always happen to me? I can't see...     annoyance\n",
            "5  My child's school performance has improved sig...      Positive\n",
            "6  The relentless drumming of rain against the wi...  restlessness\n",
            "7  The CEO's decision to lay off a significant po...       Serious\n",
            "8  Seeing the volunteers helping to clean up the ...       empathy\n",
            "9  The silence in the room is deafening, and it f...       sadness\n",
            "post-filter header: \n",
            "                                                 text  label\n",
            "0  My chest tightens with the fear of confrontati...      0\n",
            "1  Today's menu includes salad, soup, and sandwic...      1\n",
            "2  I'm thrilled to announce that my application w...      2\n",
            "3  Looking forward to the annual 'Employee of the...      3\n",
            "4  Why does this always happen to me? I can't see...      4\n",
            "5  My child's school performance has improved sig...      2\n",
            "6  The relentless drumming of rain against the wi...      5\n",
            "7  The CEO's decision to lay off a significant po...      6\n",
            "8  Seeing the volunteers helping to clean up the ...      7\n",
            "9  The silence in the room is deafening, and it f...      8\n"
          ]
        }
      ]
    },
    {
      "cell_type": "code",
      "execution_count": 17,
      "metadata": {
        "id": "zv28IXN4yRGC",
        "colab": {
          "base_uri": "https://localhost:8080/",
          "height": 81,
          "referenced_widgets": [
            "c58eeada66eb449f825e36c35f147c88",
            "2f660f56583a41cda13545080a0052aa",
            "145ab20e477f4772ab05c6b866e9186d",
            "084f17aeb4b3468a80bf02a72606704b",
            "615b822c9f984eeb926a7f634f4b4fd3",
            "b45ca1c45a1048de959de74dca1ef845",
            "d09d53c5ab6c4378809bc39bbcb34ecc",
            "ca8b2256f0cd48b8a32f565f67819858",
            "5e625f5fb39a4543ba56253f183612a3",
            "5eedc878339343c39c299f1d69b4378c",
            "24a4493d2ffc4957a48414ce870ed8ce",
            "00e9486c4c8d4f029e816929ceebce4c",
            "63557e8bcbb442e192ed318edf091198",
            "c7880d24636b4a63b44180a1adaef0cd",
            "20c7b420c4894fed9dba1c1ea12e6310",
            "c5c46d8cc9a5483a9710f5e664b5117b",
            "c192f0edc4f84488ae4c11f6bcc0da7a",
            "842512aef7d74f59883c7cb2d4e52597",
            "23e3fa9c2d00494d9885a4fb89233987",
            "9f864d0ce492447e93575b0f6eaa9515",
            "280b86eb1e7248bbbc9d4949604508f7",
            "794a17236fae41bc886d23e91c899f2c"
          ]
        },
        "outputId": "a472a04b-28c3-4283-9490-5c6d3a900a79"
      },
      "outputs": [
        {
          "output_type": "display_data",
          "data": {
            "text/plain": [
              "Map:   0%|          | 0/392 [00:00<?, ? examples/s]"
            ],
            "application/vnd.jupyter.widget-view+json": {
              "version_major": 2,
              "version_minor": 0,
              "model_id": "c58eeada66eb449f825e36c35f147c88"
            }
          },
          "metadata": {}
        },
        {
          "output_type": "display_data",
          "data": {
            "text/plain": [
              "Map:   0%|          | 0/99 [00:00<?, ? examples/s]"
            ],
            "application/vnd.jupyter.widget-view+json": {
              "version_major": 2,
              "version_minor": 0,
              "model_id": "00e9486c4c8d4f029e816929ceebce4c"
            }
          },
          "metadata": {}
        }
      ],
      "source": [
        "# Assuming filter_dataset is a dictionary with 'train' and 'validation' subsets\n",
        "# Apply preprocess function to each subset (train and validation)\n",
        "\n",
        "def preprocess_function(examples):\n",
        "    try:\n",
        "        # Ensure consistent tokenizer usage\n",
        "        global tokenizer\n",
        "\n",
        "        # Input extraction\n",
        "        inputs = examples[\"text\"]\n",
        "\n",
        "        # Tokenization with special token handling (if needed)\n",
        "        model_inputs = tokenizer(\n",
        "            inputs,\n",
        "            max_length=128,\n",
        "            truncation=True,\n",
        "            padding=\"max_length\",\n",
        "            # add_special_tokens=True,  # Add if needed\n",
        "        )\n",
        "\n",
        "        # Label assignment\n",
        "        model_inputs[\"labels\"] = examples[\"label\"]\n",
        "\n",
        "        return model_inputs\n",
        "    except Exception as e:\n",
        "        print(f\"Error during preprocessing: {e}\")\n",
        "        return None  # Or handle the error appropriately\n",
        "\n",
        "# Apply the preprocess function to 'train' and 'validation' separately\n",
        "tokenized_train = tokenized_dataset['train'].map(preprocess_function, batched=True)\n",
        "tokenized_validation = tokenized_dataset['validation'].map(preprocess_function, batched=True)\n",
        "\n",
        "# If needed, you can combine the processed datasets back into a dictionary\n",
        "tokenized_dataset = {\n",
        "    'train': tokenized_train,\n",
        "    'validation': tokenized_validation\n",
        "}\n"
      ]
    },
    {
      "cell_type": "markdown",
      "source": [
        "Some print statements to make sure things look ok"
      ],
      "metadata": {
        "id": "xlliANlTK0qo"
      }
    },
    {
      "cell_type": "code",
      "source": [
        "print(tokenized_dataset)"
      ],
      "metadata": {
        "colab": {
          "base_uri": "https://localhost:8080/"
        },
        "id": "mW03__aVpaki",
        "outputId": "00826d58-0704-4ead-b5e7-800f1dc3653b"
      },
      "execution_count": 18,
      "outputs": [
        {
          "output_type": "stream",
          "name": "stdout",
          "text": [
            "{'train': Dataset({\n",
            "    features: ['text', 'label', 'input_ids', 'token_type_ids', 'attention_mask', 'labels'],\n",
            "    num_rows: 392\n",
            "}), 'validation': Dataset({\n",
            "    features: ['text', 'label', 'input_ids', 'token_type_ids', 'attention_mask', 'labels'],\n",
            "    num_rows: 99\n",
            "})}\n"
          ]
        }
      ]
    },
    {
      "cell_type": "code",
      "source": [
        "print(tokenized_dataset.keys())\n",
        "print(tokenized_dataset[\"train\"].features)\n",
        "print(tokenized_dataset[\"train\"][:5])"
      ],
      "metadata": {
        "colab": {
          "base_uri": "https://localhost:8080/"
        },
        "id": "70T5xj4Jp3oO",
        "outputId": "57ce2a52-8fb9-49e1-a7bc-29ab1b504d5e"
      },
      "execution_count": 19,
      "outputs": [
        {
          "output_type": "stream",
          "name": "stdout",
          "text": [
            "dict_keys(['train', 'validation'])\n",
            "{'text': Value(dtype='string', id=None), 'label': Value(dtype='int64', id=None), 'input_ids': Sequence(feature=Value(dtype='int32', id=None), length=-1, id=None), 'token_type_ids': Sequence(feature=Value(dtype='int8', id=None), length=-1, id=None), 'attention_mask': Sequence(feature=Value(dtype='int8', id=None), length=-1, id=None), 'labels': Value(dtype='int64', id=None)}\n",
            "{'text': [\"My chest tightens with the fear of confrontation, it's a dreaded emotion.\", \"Today's menu includes salad, soup, and sandwiches.\", \"I'm thrilled to announce that my application was accepted. Thanks for all the support!\", \"Looking forward to the annual 'Employee of the Month' award. It's truly a prestigious title.\", \"Why does this always happen to me? I can't seem to catch a break.\"], 'label': [0, 1, 2, 3, 4], 'input_ids': [[101, 2026, 3108, 21245, 2015, 2007, 1996, 3571, 1997, 13111, 1010, 2009, 1005, 1055, 1037, 14436, 2098, 7603, 1012, 102, 0, 0, 0, 0, 0, 0, 0, 0, 0, 0, 0, 0, 0, 0, 0, 0, 0, 0, 0, 0, 0, 0, 0, 0, 0, 0, 0, 0, 0, 0, 0, 0, 0, 0, 0, 0, 0, 0, 0, 0, 0, 0, 0, 0, 0, 0, 0, 0, 0, 0, 0, 0, 0, 0, 0, 0, 0, 0, 0, 0, 0, 0, 0, 0, 0, 0, 0, 0, 0, 0, 0, 0, 0, 0, 0, 0, 0, 0, 0, 0, 0, 0, 0, 0, 0, 0, 0, 0, 0, 0, 0, 0, 0, 0, 0, 0, 0, 0, 0, 0, 0, 0, 0, 0, 0, 0, 0, 0], [101, 2651, 1005, 1055, 12183, 2950, 16521, 1010, 11350, 1010, 1998, 22094, 1012, 102, 0, 0, 0, 0, 0, 0, 0, 0, 0, 0, 0, 0, 0, 0, 0, 0, 0, 0, 0, 0, 0, 0, 0, 0, 0, 0, 0, 0, 0, 0, 0, 0, 0, 0, 0, 0, 0, 0, 0, 0, 0, 0, 0, 0, 0, 0, 0, 0, 0, 0, 0, 0, 0, 0, 0, 0, 0, 0, 0, 0, 0, 0, 0, 0, 0, 0, 0, 0, 0, 0, 0, 0, 0, 0, 0, 0, 0, 0, 0, 0, 0, 0, 0, 0, 0, 0, 0, 0, 0, 0, 0, 0, 0, 0, 0, 0, 0, 0, 0, 0, 0, 0, 0, 0, 0, 0, 0, 0, 0, 0, 0, 0, 0, 0], [101, 1045, 1005, 1049, 16082, 2000, 14970, 2008, 2026, 4646, 2001, 3970, 1012, 4283, 2005, 2035, 1996, 2490, 999, 102, 0, 0, 0, 0, 0, 0, 0, 0, 0, 0, 0, 0, 0, 0, 0, 0, 0, 0, 0, 0, 0, 0, 0, 0, 0, 0, 0, 0, 0, 0, 0, 0, 0, 0, 0, 0, 0, 0, 0, 0, 0, 0, 0, 0, 0, 0, 0, 0, 0, 0, 0, 0, 0, 0, 0, 0, 0, 0, 0, 0, 0, 0, 0, 0, 0, 0, 0, 0, 0, 0, 0, 0, 0, 0, 0, 0, 0, 0, 0, 0, 0, 0, 0, 0, 0, 0, 0, 0, 0, 0, 0, 0, 0, 0, 0, 0, 0, 0, 0, 0, 0, 0, 0, 0, 0, 0, 0, 0], [101, 2559, 2830, 2000, 1996, 3296, 1005, 7904, 1997, 1996, 3204, 1005, 2400, 1012, 2009, 1005, 1055, 5621, 1037, 8919, 2516, 1012, 102, 0, 0, 0, 0, 0, 0, 0, 0, 0, 0, 0, 0, 0, 0, 0, 0, 0, 0, 0, 0, 0, 0, 0, 0, 0, 0, 0, 0, 0, 0, 0, 0, 0, 0, 0, 0, 0, 0, 0, 0, 0, 0, 0, 0, 0, 0, 0, 0, 0, 0, 0, 0, 0, 0, 0, 0, 0, 0, 0, 0, 0, 0, 0, 0, 0, 0, 0, 0, 0, 0, 0, 0, 0, 0, 0, 0, 0, 0, 0, 0, 0, 0, 0, 0, 0, 0, 0, 0, 0, 0, 0, 0, 0, 0, 0, 0, 0, 0, 0, 0, 0, 0, 0, 0, 0], [101, 2339, 2515, 2023, 2467, 4148, 2000, 2033, 1029, 1045, 2064, 1005, 1056, 4025, 2000, 4608, 1037, 3338, 1012, 102, 0, 0, 0, 0, 0, 0, 0, 0, 0, 0, 0, 0, 0, 0, 0, 0, 0, 0, 0, 0, 0, 0, 0, 0, 0, 0, 0, 0, 0, 0, 0, 0, 0, 0, 0, 0, 0, 0, 0, 0, 0, 0, 0, 0, 0, 0, 0, 0, 0, 0, 0, 0, 0, 0, 0, 0, 0, 0, 0, 0, 0, 0, 0, 0, 0, 0, 0, 0, 0, 0, 0, 0, 0, 0, 0, 0, 0, 0, 0, 0, 0, 0, 0, 0, 0, 0, 0, 0, 0, 0, 0, 0, 0, 0, 0, 0, 0, 0, 0, 0, 0, 0, 0, 0, 0, 0, 0, 0]], 'token_type_ids': [[0, 0, 0, 0, 0, 0, 0, 0, 0, 0, 0, 0, 0, 0, 0, 0, 0, 0, 0, 0, 0, 0, 0, 0, 0, 0, 0, 0, 0, 0, 0, 0, 0, 0, 0, 0, 0, 0, 0, 0, 0, 0, 0, 0, 0, 0, 0, 0, 0, 0, 0, 0, 0, 0, 0, 0, 0, 0, 0, 0, 0, 0, 0, 0, 0, 0, 0, 0, 0, 0, 0, 0, 0, 0, 0, 0, 0, 0, 0, 0, 0, 0, 0, 0, 0, 0, 0, 0, 0, 0, 0, 0, 0, 0, 0, 0, 0, 0, 0, 0, 0, 0, 0, 0, 0, 0, 0, 0, 0, 0, 0, 0, 0, 0, 0, 0, 0, 0, 0, 0, 0, 0, 0, 0, 0, 0, 0, 0], [0, 0, 0, 0, 0, 0, 0, 0, 0, 0, 0, 0, 0, 0, 0, 0, 0, 0, 0, 0, 0, 0, 0, 0, 0, 0, 0, 0, 0, 0, 0, 0, 0, 0, 0, 0, 0, 0, 0, 0, 0, 0, 0, 0, 0, 0, 0, 0, 0, 0, 0, 0, 0, 0, 0, 0, 0, 0, 0, 0, 0, 0, 0, 0, 0, 0, 0, 0, 0, 0, 0, 0, 0, 0, 0, 0, 0, 0, 0, 0, 0, 0, 0, 0, 0, 0, 0, 0, 0, 0, 0, 0, 0, 0, 0, 0, 0, 0, 0, 0, 0, 0, 0, 0, 0, 0, 0, 0, 0, 0, 0, 0, 0, 0, 0, 0, 0, 0, 0, 0, 0, 0, 0, 0, 0, 0, 0, 0], [0, 0, 0, 0, 0, 0, 0, 0, 0, 0, 0, 0, 0, 0, 0, 0, 0, 0, 0, 0, 0, 0, 0, 0, 0, 0, 0, 0, 0, 0, 0, 0, 0, 0, 0, 0, 0, 0, 0, 0, 0, 0, 0, 0, 0, 0, 0, 0, 0, 0, 0, 0, 0, 0, 0, 0, 0, 0, 0, 0, 0, 0, 0, 0, 0, 0, 0, 0, 0, 0, 0, 0, 0, 0, 0, 0, 0, 0, 0, 0, 0, 0, 0, 0, 0, 0, 0, 0, 0, 0, 0, 0, 0, 0, 0, 0, 0, 0, 0, 0, 0, 0, 0, 0, 0, 0, 0, 0, 0, 0, 0, 0, 0, 0, 0, 0, 0, 0, 0, 0, 0, 0, 0, 0, 0, 0, 0, 0], [0, 0, 0, 0, 0, 0, 0, 0, 0, 0, 0, 0, 0, 0, 0, 0, 0, 0, 0, 0, 0, 0, 0, 0, 0, 0, 0, 0, 0, 0, 0, 0, 0, 0, 0, 0, 0, 0, 0, 0, 0, 0, 0, 0, 0, 0, 0, 0, 0, 0, 0, 0, 0, 0, 0, 0, 0, 0, 0, 0, 0, 0, 0, 0, 0, 0, 0, 0, 0, 0, 0, 0, 0, 0, 0, 0, 0, 0, 0, 0, 0, 0, 0, 0, 0, 0, 0, 0, 0, 0, 0, 0, 0, 0, 0, 0, 0, 0, 0, 0, 0, 0, 0, 0, 0, 0, 0, 0, 0, 0, 0, 0, 0, 0, 0, 0, 0, 0, 0, 0, 0, 0, 0, 0, 0, 0, 0, 0], [0, 0, 0, 0, 0, 0, 0, 0, 0, 0, 0, 0, 0, 0, 0, 0, 0, 0, 0, 0, 0, 0, 0, 0, 0, 0, 0, 0, 0, 0, 0, 0, 0, 0, 0, 0, 0, 0, 0, 0, 0, 0, 0, 0, 0, 0, 0, 0, 0, 0, 0, 0, 0, 0, 0, 0, 0, 0, 0, 0, 0, 0, 0, 0, 0, 0, 0, 0, 0, 0, 0, 0, 0, 0, 0, 0, 0, 0, 0, 0, 0, 0, 0, 0, 0, 0, 0, 0, 0, 0, 0, 0, 0, 0, 0, 0, 0, 0, 0, 0, 0, 0, 0, 0, 0, 0, 0, 0, 0, 0, 0, 0, 0, 0, 0, 0, 0, 0, 0, 0, 0, 0, 0, 0, 0, 0, 0, 0]], 'attention_mask': [[1, 1, 1, 1, 1, 1, 1, 1, 1, 1, 1, 1, 1, 1, 1, 1, 1, 1, 1, 1, 0, 0, 0, 0, 0, 0, 0, 0, 0, 0, 0, 0, 0, 0, 0, 0, 0, 0, 0, 0, 0, 0, 0, 0, 0, 0, 0, 0, 0, 0, 0, 0, 0, 0, 0, 0, 0, 0, 0, 0, 0, 0, 0, 0, 0, 0, 0, 0, 0, 0, 0, 0, 0, 0, 0, 0, 0, 0, 0, 0, 0, 0, 0, 0, 0, 0, 0, 0, 0, 0, 0, 0, 0, 0, 0, 0, 0, 0, 0, 0, 0, 0, 0, 0, 0, 0, 0, 0, 0, 0, 0, 0, 0, 0, 0, 0, 0, 0, 0, 0, 0, 0, 0, 0, 0, 0, 0, 0], [1, 1, 1, 1, 1, 1, 1, 1, 1, 1, 1, 1, 1, 1, 0, 0, 0, 0, 0, 0, 0, 0, 0, 0, 0, 0, 0, 0, 0, 0, 0, 0, 0, 0, 0, 0, 0, 0, 0, 0, 0, 0, 0, 0, 0, 0, 0, 0, 0, 0, 0, 0, 0, 0, 0, 0, 0, 0, 0, 0, 0, 0, 0, 0, 0, 0, 0, 0, 0, 0, 0, 0, 0, 0, 0, 0, 0, 0, 0, 0, 0, 0, 0, 0, 0, 0, 0, 0, 0, 0, 0, 0, 0, 0, 0, 0, 0, 0, 0, 0, 0, 0, 0, 0, 0, 0, 0, 0, 0, 0, 0, 0, 0, 0, 0, 0, 0, 0, 0, 0, 0, 0, 0, 0, 0, 0, 0, 0], [1, 1, 1, 1, 1, 1, 1, 1, 1, 1, 1, 1, 1, 1, 1, 1, 1, 1, 1, 1, 0, 0, 0, 0, 0, 0, 0, 0, 0, 0, 0, 0, 0, 0, 0, 0, 0, 0, 0, 0, 0, 0, 0, 0, 0, 0, 0, 0, 0, 0, 0, 0, 0, 0, 0, 0, 0, 0, 0, 0, 0, 0, 0, 0, 0, 0, 0, 0, 0, 0, 0, 0, 0, 0, 0, 0, 0, 0, 0, 0, 0, 0, 0, 0, 0, 0, 0, 0, 0, 0, 0, 0, 0, 0, 0, 0, 0, 0, 0, 0, 0, 0, 0, 0, 0, 0, 0, 0, 0, 0, 0, 0, 0, 0, 0, 0, 0, 0, 0, 0, 0, 0, 0, 0, 0, 0, 0, 0], [1, 1, 1, 1, 1, 1, 1, 1, 1, 1, 1, 1, 1, 1, 1, 1, 1, 1, 1, 1, 1, 1, 1, 0, 0, 0, 0, 0, 0, 0, 0, 0, 0, 0, 0, 0, 0, 0, 0, 0, 0, 0, 0, 0, 0, 0, 0, 0, 0, 0, 0, 0, 0, 0, 0, 0, 0, 0, 0, 0, 0, 0, 0, 0, 0, 0, 0, 0, 0, 0, 0, 0, 0, 0, 0, 0, 0, 0, 0, 0, 0, 0, 0, 0, 0, 0, 0, 0, 0, 0, 0, 0, 0, 0, 0, 0, 0, 0, 0, 0, 0, 0, 0, 0, 0, 0, 0, 0, 0, 0, 0, 0, 0, 0, 0, 0, 0, 0, 0, 0, 0, 0, 0, 0, 0, 0, 0, 0], [1, 1, 1, 1, 1, 1, 1, 1, 1, 1, 1, 1, 1, 1, 1, 1, 1, 1, 1, 1, 0, 0, 0, 0, 0, 0, 0, 0, 0, 0, 0, 0, 0, 0, 0, 0, 0, 0, 0, 0, 0, 0, 0, 0, 0, 0, 0, 0, 0, 0, 0, 0, 0, 0, 0, 0, 0, 0, 0, 0, 0, 0, 0, 0, 0, 0, 0, 0, 0, 0, 0, 0, 0, 0, 0, 0, 0, 0, 0, 0, 0, 0, 0, 0, 0, 0, 0, 0, 0, 0, 0, 0, 0, 0, 0, 0, 0, 0, 0, 0, 0, 0, 0, 0, 0, 0, 0, 0, 0, 0, 0, 0, 0, 0, 0, 0, 0, 0, 0, 0, 0, 0, 0, 0, 0, 0, 0, 0]], 'labels': [0, 1, 2, 3, 4]}\n"
          ]
        }
      ]
    },
    {
      "cell_type": "code",
      "source": [
        "# Iterate through the first 5 examples\n",
        "for i in range(5):\n",
        "    print(tokenized_dataset[\"train\"][i])"
      ],
      "metadata": {
        "colab": {
          "base_uri": "https://localhost:8080/"
        },
        "id": "4fa6xpVpq1iZ",
        "outputId": "4aa12294-8318-4873-f2e9-6a3d6dc6b6d3"
      },
      "execution_count": 20,
      "outputs": [
        {
          "output_type": "stream",
          "name": "stdout",
          "text": [
            "{'text': \"My chest tightens with the fear of confrontation, it's a dreaded emotion.\", 'label': 0, 'input_ids': [101, 2026, 3108, 21245, 2015, 2007, 1996, 3571, 1997, 13111, 1010, 2009, 1005, 1055, 1037, 14436, 2098, 7603, 1012, 102, 0, 0, 0, 0, 0, 0, 0, 0, 0, 0, 0, 0, 0, 0, 0, 0, 0, 0, 0, 0, 0, 0, 0, 0, 0, 0, 0, 0, 0, 0, 0, 0, 0, 0, 0, 0, 0, 0, 0, 0, 0, 0, 0, 0, 0, 0, 0, 0, 0, 0, 0, 0, 0, 0, 0, 0, 0, 0, 0, 0, 0, 0, 0, 0, 0, 0, 0, 0, 0, 0, 0, 0, 0, 0, 0, 0, 0, 0, 0, 0, 0, 0, 0, 0, 0, 0, 0, 0, 0, 0, 0, 0, 0, 0, 0, 0, 0, 0, 0, 0, 0, 0, 0, 0, 0, 0, 0, 0], 'token_type_ids': [0, 0, 0, 0, 0, 0, 0, 0, 0, 0, 0, 0, 0, 0, 0, 0, 0, 0, 0, 0, 0, 0, 0, 0, 0, 0, 0, 0, 0, 0, 0, 0, 0, 0, 0, 0, 0, 0, 0, 0, 0, 0, 0, 0, 0, 0, 0, 0, 0, 0, 0, 0, 0, 0, 0, 0, 0, 0, 0, 0, 0, 0, 0, 0, 0, 0, 0, 0, 0, 0, 0, 0, 0, 0, 0, 0, 0, 0, 0, 0, 0, 0, 0, 0, 0, 0, 0, 0, 0, 0, 0, 0, 0, 0, 0, 0, 0, 0, 0, 0, 0, 0, 0, 0, 0, 0, 0, 0, 0, 0, 0, 0, 0, 0, 0, 0, 0, 0, 0, 0, 0, 0, 0, 0, 0, 0, 0, 0], 'attention_mask': [1, 1, 1, 1, 1, 1, 1, 1, 1, 1, 1, 1, 1, 1, 1, 1, 1, 1, 1, 1, 0, 0, 0, 0, 0, 0, 0, 0, 0, 0, 0, 0, 0, 0, 0, 0, 0, 0, 0, 0, 0, 0, 0, 0, 0, 0, 0, 0, 0, 0, 0, 0, 0, 0, 0, 0, 0, 0, 0, 0, 0, 0, 0, 0, 0, 0, 0, 0, 0, 0, 0, 0, 0, 0, 0, 0, 0, 0, 0, 0, 0, 0, 0, 0, 0, 0, 0, 0, 0, 0, 0, 0, 0, 0, 0, 0, 0, 0, 0, 0, 0, 0, 0, 0, 0, 0, 0, 0, 0, 0, 0, 0, 0, 0, 0, 0, 0, 0, 0, 0, 0, 0, 0, 0, 0, 0, 0, 0], 'labels': 0}\n",
            "{'text': \"Today's menu includes salad, soup, and sandwiches.\", 'label': 1, 'input_ids': [101, 2651, 1005, 1055, 12183, 2950, 16521, 1010, 11350, 1010, 1998, 22094, 1012, 102, 0, 0, 0, 0, 0, 0, 0, 0, 0, 0, 0, 0, 0, 0, 0, 0, 0, 0, 0, 0, 0, 0, 0, 0, 0, 0, 0, 0, 0, 0, 0, 0, 0, 0, 0, 0, 0, 0, 0, 0, 0, 0, 0, 0, 0, 0, 0, 0, 0, 0, 0, 0, 0, 0, 0, 0, 0, 0, 0, 0, 0, 0, 0, 0, 0, 0, 0, 0, 0, 0, 0, 0, 0, 0, 0, 0, 0, 0, 0, 0, 0, 0, 0, 0, 0, 0, 0, 0, 0, 0, 0, 0, 0, 0, 0, 0, 0, 0, 0, 0, 0, 0, 0, 0, 0, 0, 0, 0, 0, 0, 0, 0, 0, 0], 'token_type_ids': [0, 0, 0, 0, 0, 0, 0, 0, 0, 0, 0, 0, 0, 0, 0, 0, 0, 0, 0, 0, 0, 0, 0, 0, 0, 0, 0, 0, 0, 0, 0, 0, 0, 0, 0, 0, 0, 0, 0, 0, 0, 0, 0, 0, 0, 0, 0, 0, 0, 0, 0, 0, 0, 0, 0, 0, 0, 0, 0, 0, 0, 0, 0, 0, 0, 0, 0, 0, 0, 0, 0, 0, 0, 0, 0, 0, 0, 0, 0, 0, 0, 0, 0, 0, 0, 0, 0, 0, 0, 0, 0, 0, 0, 0, 0, 0, 0, 0, 0, 0, 0, 0, 0, 0, 0, 0, 0, 0, 0, 0, 0, 0, 0, 0, 0, 0, 0, 0, 0, 0, 0, 0, 0, 0, 0, 0, 0, 0], 'attention_mask': [1, 1, 1, 1, 1, 1, 1, 1, 1, 1, 1, 1, 1, 1, 0, 0, 0, 0, 0, 0, 0, 0, 0, 0, 0, 0, 0, 0, 0, 0, 0, 0, 0, 0, 0, 0, 0, 0, 0, 0, 0, 0, 0, 0, 0, 0, 0, 0, 0, 0, 0, 0, 0, 0, 0, 0, 0, 0, 0, 0, 0, 0, 0, 0, 0, 0, 0, 0, 0, 0, 0, 0, 0, 0, 0, 0, 0, 0, 0, 0, 0, 0, 0, 0, 0, 0, 0, 0, 0, 0, 0, 0, 0, 0, 0, 0, 0, 0, 0, 0, 0, 0, 0, 0, 0, 0, 0, 0, 0, 0, 0, 0, 0, 0, 0, 0, 0, 0, 0, 0, 0, 0, 0, 0, 0, 0, 0, 0], 'labels': 1}\n",
            "{'text': \"I'm thrilled to announce that my application was accepted. Thanks for all the support!\", 'label': 2, 'input_ids': [101, 1045, 1005, 1049, 16082, 2000, 14970, 2008, 2026, 4646, 2001, 3970, 1012, 4283, 2005, 2035, 1996, 2490, 999, 102, 0, 0, 0, 0, 0, 0, 0, 0, 0, 0, 0, 0, 0, 0, 0, 0, 0, 0, 0, 0, 0, 0, 0, 0, 0, 0, 0, 0, 0, 0, 0, 0, 0, 0, 0, 0, 0, 0, 0, 0, 0, 0, 0, 0, 0, 0, 0, 0, 0, 0, 0, 0, 0, 0, 0, 0, 0, 0, 0, 0, 0, 0, 0, 0, 0, 0, 0, 0, 0, 0, 0, 0, 0, 0, 0, 0, 0, 0, 0, 0, 0, 0, 0, 0, 0, 0, 0, 0, 0, 0, 0, 0, 0, 0, 0, 0, 0, 0, 0, 0, 0, 0, 0, 0, 0, 0, 0, 0], 'token_type_ids': [0, 0, 0, 0, 0, 0, 0, 0, 0, 0, 0, 0, 0, 0, 0, 0, 0, 0, 0, 0, 0, 0, 0, 0, 0, 0, 0, 0, 0, 0, 0, 0, 0, 0, 0, 0, 0, 0, 0, 0, 0, 0, 0, 0, 0, 0, 0, 0, 0, 0, 0, 0, 0, 0, 0, 0, 0, 0, 0, 0, 0, 0, 0, 0, 0, 0, 0, 0, 0, 0, 0, 0, 0, 0, 0, 0, 0, 0, 0, 0, 0, 0, 0, 0, 0, 0, 0, 0, 0, 0, 0, 0, 0, 0, 0, 0, 0, 0, 0, 0, 0, 0, 0, 0, 0, 0, 0, 0, 0, 0, 0, 0, 0, 0, 0, 0, 0, 0, 0, 0, 0, 0, 0, 0, 0, 0, 0, 0], 'attention_mask': [1, 1, 1, 1, 1, 1, 1, 1, 1, 1, 1, 1, 1, 1, 1, 1, 1, 1, 1, 1, 0, 0, 0, 0, 0, 0, 0, 0, 0, 0, 0, 0, 0, 0, 0, 0, 0, 0, 0, 0, 0, 0, 0, 0, 0, 0, 0, 0, 0, 0, 0, 0, 0, 0, 0, 0, 0, 0, 0, 0, 0, 0, 0, 0, 0, 0, 0, 0, 0, 0, 0, 0, 0, 0, 0, 0, 0, 0, 0, 0, 0, 0, 0, 0, 0, 0, 0, 0, 0, 0, 0, 0, 0, 0, 0, 0, 0, 0, 0, 0, 0, 0, 0, 0, 0, 0, 0, 0, 0, 0, 0, 0, 0, 0, 0, 0, 0, 0, 0, 0, 0, 0, 0, 0, 0, 0, 0, 0], 'labels': 2}\n",
            "{'text': \"Looking forward to the annual 'Employee of the Month' award. It's truly a prestigious title.\", 'label': 3, 'input_ids': [101, 2559, 2830, 2000, 1996, 3296, 1005, 7904, 1997, 1996, 3204, 1005, 2400, 1012, 2009, 1005, 1055, 5621, 1037, 8919, 2516, 1012, 102, 0, 0, 0, 0, 0, 0, 0, 0, 0, 0, 0, 0, 0, 0, 0, 0, 0, 0, 0, 0, 0, 0, 0, 0, 0, 0, 0, 0, 0, 0, 0, 0, 0, 0, 0, 0, 0, 0, 0, 0, 0, 0, 0, 0, 0, 0, 0, 0, 0, 0, 0, 0, 0, 0, 0, 0, 0, 0, 0, 0, 0, 0, 0, 0, 0, 0, 0, 0, 0, 0, 0, 0, 0, 0, 0, 0, 0, 0, 0, 0, 0, 0, 0, 0, 0, 0, 0, 0, 0, 0, 0, 0, 0, 0, 0, 0, 0, 0, 0, 0, 0, 0, 0, 0, 0], 'token_type_ids': [0, 0, 0, 0, 0, 0, 0, 0, 0, 0, 0, 0, 0, 0, 0, 0, 0, 0, 0, 0, 0, 0, 0, 0, 0, 0, 0, 0, 0, 0, 0, 0, 0, 0, 0, 0, 0, 0, 0, 0, 0, 0, 0, 0, 0, 0, 0, 0, 0, 0, 0, 0, 0, 0, 0, 0, 0, 0, 0, 0, 0, 0, 0, 0, 0, 0, 0, 0, 0, 0, 0, 0, 0, 0, 0, 0, 0, 0, 0, 0, 0, 0, 0, 0, 0, 0, 0, 0, 0, 0, 0, 0, 0, 0, 0, 0, 0, 0, 0, 0, 0, 0, 0, 0, 0, 0, 0, 0, 0, 0, 0, 0, 0, 0, 0, 0, 0, 0, 0, 0, 0, 0, 0, 0, 0, 0, 0, 0], 'attention_mask': [1, 1, 1, 1, 1, 1, 1, 1, 1, 1, 1, 1, 1, 1, 1, 1, 1, 1, 1, 1, 1, 1, 1, 0, 0, 0, 0, 0, 0, 0, 0, 0, 0, 0, 0, 0, 0, 0, 0, 0, 0, 0, 0, 0, 0, 0, 0, 0, 0, 0, 0, 0, 0, 0, 0, 0, 0, 0, 0, 0, 0, 0, 0, 0, 0, 0, 0, 0, 0, 0, 0, 0, 0, 0, 0, 0, 0, 0, 0, 0, 0, 0, 0, 0, 0, 0, 0, 0, 0, 0, 0, 0, 0, 0, 0, 0, 0, 0, 0, 0, 0, 0, 0, 0, 0, 0, 0, 0, 0, 0, 0, 0, 0, 0, 0, 0, 0, 0, 0, 0, 0, 0, 0, 0, 0, 0, 0, 0], 'labels': 3}\n",
            "{'text': \"Why does this always happen to me? I can't seem to catch a break.\", 'label': 4, 'input_ids': [101, 2339, 2515, 2023, 2467, 4148, 2000, 2033, 1029, 1045, 2064, 1005, 1056, 4025, 2000, 4608, 1037, 3338, 1012, 102, 0, 0, 0, 0, 0, 0, 0, 0, 0, 0, 0, 0, 0, 0, 0, 0, 0, 0, 0, 0, 0, 0, 0, 0, 0, 0, 0, 0, 0, 0, 0, 0, 0, 0, 0, 0, 0, 0, 0, 0, 0, 0, 0, 0, 0, 0, 0, 0, 0, 0, 0, 0, 0, 0, 0, 0, 0, 0, 0, 0, 0, 0, 0, 0, 0, 0, 0, 0, 0, 0, 0, 0, 0, 0, 0, 0, 0, 0, 0, 0, 0, 0, 0, 0, 0, 0, 0, 0, 0, 0, 0, 0, 0, 0, 0, 0, 0, 0, 0, 0, 0, 0, 0, 0, 0, 0, 0, 0], 'token_type_ids': [0, 0, 0, 0, 0, 0, 0, 0, 0, 0, 0, 0, 0, 0, 0, 0, 0, 0, 0, 0, 0, 0, 0, 0, 0, 0, 0, 0, 0, 0, 0, 0, 0, 0, 0, 0, 0, 0, 0, 0, 0, 0, 0, 0, 0, 0, 0, 0, 0, 0, 0, 0, 0, 0, 0, 0, 0, 0, 0, 0, 0, 0, 0, 0, 0, 0, 0, 0, 0, 0, 0, 0, 0, 0, 0, 0, 0, 0, 0, 0, 0, 0, 0, 0, 0, 0, 0, 0, 0, 0, 0, 0, 0, 0, 0, 0, 0, 0, 0, 0, 0, 0, 0, 0, 0, 0, 0, 0, 0, 0, 0, 0, 0, 0, 0, 0, 0, 0, 0, 0, 0, 0, 0, 0, 0, 0, 0, 0], 'attention_mask': [1, 1, 1, 1, 1, 1, 1, 1, 1, 1, 1, 1, 1, 1, 1, 1, 1, 1, 1, 1, 0, 0, 0, 0, 0, 0, 0, 0, 0, 0, 0, 0, 0, 0, 0, 0, 0, 0, 0, 0, 0, 0, 0, 0, 0, 0, 0, 0, 0, 0, 0, 0, 0, 0, 0, 0, 0, 0, 0, 0, 0, 0, 0, 0, 0, 0, 0, 0, 0, 0, 0, 0, 0, 0, 0, 0, 0, 0, 0, 0, 0, 0, 0, 0, 0, 0, 0, 0, 0, 0, 0, 0, 0, 0, 0, 0, 0, 0, 0, 0, 0, 0, 0, 0, 0, 0, 0, 0, 0, 0, 0, 0, 0, 0, 0, 0, 0, 0, 0, 0, 0, 0, 0, 0, 0, 0, 0, 0], 'labels': 4}\n"
          ]
        }
      ]
    },
    {
      "cell_type": "code",
      "source": [
        "vocabulary = tokenizer.get_vocab()\n",
        "token = vocabulary.get(2026)\n",
        "print(token)\n",
        "vocabulary_size = len(tokenizer.get_vocab())\n",
        "print(f\"Vocabulary size: {vocabulary_size}\")"
      ],
      "metadata": {
        "colab": {
          "base_uri": "https://localhost:8080/"
        },
        "id": "1O1cXejLrGZP",
        "outputId": "4ef1fb1e-ece3-40d9-c12b-5e069f6f3fd3"
      },
      "execution_count": 21,
      "outputs": [
        {
          "output_type": "stream",
          "name": "stdout",
          "text": [
            "None\n",
            "Vocabulary size: 30522\n"
          ]
        }
      ]
    },
    {
      "cell_type": "code",
      "source": [
        "for input_id in tokenized_dataset[\"train\"][1][\"input_ids\"]:\n",
        "    token = tokenizer.convert_ids_to_tokens(input_id)  # Built-in method\n",
        "    if input_id in tokenizer.all_special_ids:  # Handle special tokens\n",
        "        print(f\"Special token: {token}\")\n",
        "    else:\n",
        "        print(f\"Token: {token}\")"
      ],
      "metadata": {
        "colab": {
          "base_uri": "https://localhost:8080/"
        },
        "id": "lsLofngUty0r",
        "outputId": "824b1220-9390-4594-cde9-a417825674c5"
      },
      "execution_count": 22,
      "outputs": [
        {
          "output_type": "stream",
          "name": "stdout",
          "text": [
            "Special token: [CLS]\n",
            "Token: today\n",
            "Token: '\n",
            "Token: s\n",
            "Token: menu\n",
            "Token: includes\n",
            "Token: salad\n",
            "Token: ,\n",
            "Token: soup\n",
            "Token: ,\n",
            "Token: and\n",
            "Token: sandwiches\n",
            "Token: .\n",
            "Special token: [SEP]\n",
            "Special token: [PAD]\n",
            "Special token: [PAD]\n",
            "Special token: [PAD]\n",
            "Special token: [PAD]\n",
            "Special token: [PAD]\n",
            "Special token: [PAD]\n",
            "Special token: [PAD]\n",
            "Special token: [PAD]\n",
            "Special token: [PAD]\n",
            "Special token: [PAD]\n",
            "Special token: [PAD]\n",
            "Special token: [PAD]\n",
            "Special token: [PAD]\n",
            "Special token: [PAD]\n",
            "Special token: [PAD]\n",
            "Special token: [PAD]\n",
            "Special token: [PAD]\n",
            "Special token: [PAD]\n",
            "Special token: [PAD]\n",
            "Special token: [PAD]\n",
            "Special token: [PAD]\n",
            "Special token: [PAD]\n",
            "Special token: [PAD]\n",
            "Special token: [PAD]\n",
            "Special token: [PAD]\n",
            "Special token: [PAD]\n",
            "Special token: [PAD]\n",
            "Special token: [PAD]\n",
            "Special token: [PAD]\n",
            "Special token: [PAD]\n",
            "Special token: [PAD]\n",
            "Special token: [PAD]\n",
            "Special token: [PAD]\n",
            "Special token: [PAD]\n",
            "Special token: [PAD]\n",
            "Special token: [PAD]\n",
            "Special token: [PAD]\n",
            "Special token: [PAD]\n",
            "Special token: [PAD]\n",
            "Special token: [PAD]\n",
            "Special token: [PAD]\n",
            "Special token: [PAD]\n",
            "Special token: [PAD]\n",
            "Special token: [PAD]\n",
            "Special token: [PAD]\n",
            "Special token: [PAD]\n",
            "Special token: [PAD]\n",
            "Special token: [PAD]\n",
            "Special token: [PAD]\n",
            "Special token: [PAD]\n",
            "Special token: [PAD]\n",
            "Special token: [PAD]\n",
            "Special token: [PAD]\n",
            "Special token: [PAD]\n",
            "Special token: [PAD]\n",
            "Special token: [PAD]\n",
            "Special token: [PAD]\n",
            "Special token: [PAD]\n",
            "Special token: [PAD]\n",
            "Special token: [PAD]\n",
            "Special token: [PAD]\n",
            "Special token: [PAD]\n",
            "Special token: [PAD]\n",
            "Special token: [PAD]\n",
            "Special token: [PAD]\n",
            "Special token: [PAD]\n",
            "Special token: [PAD]\n",
            "Special token: [PAD]\n",
            "Special token: [PAD]\n",
            "Special token: [PAD]\n",
            "Special token: [PAD]\n",
            "Special token: [PAD]\n",
            "Special token: [PAD]\n",
            "Special token: [PAD]\n",
            "Special token: [PAD]\n",
            "Special token: [PAD]\n",
            "Special token: [PAD]\n",
            "Special token: [PAD]\n",
            "Special token: [PAD]\n",
            "Special token: [PAD]\n",
            "Special token: [PAD]\n",
            "Special token: [PAD]\n",
            "Special token: [PAD]\n",
            "Special token: [PAD]\n",
            "Special token: [PAD]\n",
            "Special token: [PAD]\n",
            "Special token: [PAD]\n",
            "Special token: [PAD]\n",
            "Special token: [PAD]\n",
            "Special token: [PAD]\n",
            "Special token: [PAD]\n",
            "Special token: [PAD]\n",
            "Special token: [PAD]\n",
            "Special token: [PAD]\n",
            "Special token: [PAD]\n",
            "Special token: [PAD]\n",
            "Special token: [PAD]\n",
            "Special token: [PAD]\n",
            "Special token: [PAD]\n",
            "Special token: [PAD]\n",
            "Special token: [PAD]\n",
            "Special token: [PAD]\n",
            "Special token: [PAD]\n",
            "Special token: [PAD]\n",
            "Special token: [PAD]\n",
            "Special token: [PAD]\n",
            "Special token: [PAD]\n",
            "Special token: [PAD]\n",
            "Special token: [PAD]\n",
            "Special token: [PAD]\n",
            "Special token: [PAD]\n",
            "Special token: [PAD]\n",
            "Special token: [PAD]\n",
            "Special token: [PAD]\n"
          ]
        }
      ]
    },
    {
      "cell_type": "code",
      "source": [
        "# Print a sample of the vocabulary\n",
        "print(tokenizer.vocab_size)  # Check vocabulary size\n",
        "print(tokenizer.decode([2026]))  # Decode a specific token ID to see its mapping\n",
        "print(tokenizer.convert_ids_to_tokens([2651]))  # Convert to token"
      ],
      "metadata": {
        "colab": {
          "base_uri": "https://localhost:8080/"
        },
        "id": "-UEP3OagzVvg",
        "outputId": "f788c847-dc7e-4ab8-b391-3ae02968222f"
      },
      "execution_count": 23,
      "outputs": [
        {
          "output_type": "stream",
          "name": "stdout",
          "text": [
            "30522\n",
            "my\n",
            "['today']\n"
          ]
        }
      ]
    },
    {
      "cell_type": "markdown",
      "source": [
        "## this is the training part.\n",
        "1. include training arguments. These arguments can be modified for fine tuning. I don't really get it though?\n",
        "2. Collate the data using torch. There's a lot of shape manipulation because the train function kept throwing an error with datatypes.\n",
        "3. Wrote a custom compute metrics function so the model will report back on metrics after running the training."
      ],
      "metadata": {
        "id": "yUsBvkpI-NE0"
      }
    },
    {
      "cell_type": "code",
      "execution_count": 24,
      "metadata": {
        "id": "mriw80Kfq9XY"
      },
      "outputs": [],
      "source": [
        "#fine tune model using trainer API via hugging face\n",
        "training_args = TrainingArguments(\n",
        "    output_dir=\"./results\",\n",
        "    eval_strategy=\"epoch\",\n",
        "    learning_rate=5e-6,\n",
        "    per_device_train_batch_size=8,\n",
        "    num_train_epochs=4,\n",
        "    weight_decay=0.01,\n",
        "    lr_scheduler_type=\"linear\",  # Or \"cosine\", \"polynomial\", etc.\n",
        "    warmup_steps=100,  # Number of warmup steps\n",
        "    logging_steps=10\n",
        ")\n"
      ]
    },
    {
      "cell_type": "markdown",
      "source": [
        "Make a data collator. This ensures that the input_ids match the labels, which for some reason is neaded when passing all the information to tensorflow"
      ],
      "metadata": {
        "id": "nM7thR5uK9fd"
      }
    },
    {
      "cell_type": "code",
      "source": [
        "import torch\n",
        "\n",
        "def custom_data_collator(data):\n",
        "    # Convert input_ids and attention_mask to tensors\n",
        "    input_ids = torch.stack([torch.tensor(x['input_ids'], dtype=torch.long) for x in data])\n",
        "    attention_mask = torch.stack([torch.tensor(x['attention_mask'], dtype=torch.long) for x in data])\n",
        "\n",
        "    # Convert labels to a tensor\n",
        "    labels = torch.tensor([x['labels'] for x in data], dtype=torch.long)\n",
        "\n",
        "    # Debugging statements\n",
        "    print(f\"input_ids shape: {input_ids.shape}\")\n",
        "    print(f\"attention_mask shape: {attention_mask.shape}\")\n",
        "    print(f\"labels shape: {labels.shape}\")\n",
        "\n",
        "    return {\n",
        "        'input_ids': input_ids,\n",
        "        'attention_mask': attention_mask,\n",
        "        'labels': labels,\n",
        "    }"
      ],
      "metadata": {
        "id": "stpob_Tq9rgW"
      },
      "execution_count": 25,
      "outputs": []
    },
    {
      "cell_type": "markdown",
      "source": [
        "make a compute_metrics function, that customizes what metrics show up while running the trainer function"
      ],
      "metadata": {
        "id": "8ifVf0D1LKQr"
      }
    },
    {
      "cell_type": "code",
      "source": [
        "from sklearn.metrics import accuracy_score, precision_recall_fscore_support\n",
        "import numpy as np\n",
        "import torch\n",
        "\n",
        "def compute_metrics(eval_pred):\n",
        "    # Extract logits and labels\n",
        "    logits, labels = eval_pred.predictions, eval_pred.label_ids\n",
        "\n",
        "    # Ensure logits are numpy arrays (if they're in tensor format)\n",
        "    if isinstance(logits, torch.Tensor):\n",
        "        logits = logits.detach().cpu().numpy()\n",
        "\n",
        "    # Ensure labels are numpy arrays (if they're in tensor format)\n",
        "    if isinstance(labels, torch.Tensor):\n",
        "        labels = labels.detach().cpu().numpy()\n",
        "\n",
        "    # Get predicted class by taking argmax along the last dimension\n",
        "    predictions = np.argmax(logits, axis=-1)\n",
        "\n",
        "    # Remove padding (ignore -100 labels)\n",
        "    valid_mask = labels != -100\n",
        "    predictions = predictions[valid_mask]\n",
        "    labels = labels[valid_mask]\n",
        "\n",
        "    # Calculate accuracy\n",
        "    accuracy = accuracy_score(labels, predictions)\n",
        "\n",
        "    # Calculate precision, recall, and F1 score\n",
        "    precision, recall, f1, _ = precision_recall_fscore_support(labels, predictions, average='weighted')\n",
        "\n",
        "    return {\"accuracy\": accuracy, \"precision\": precision, \"recall\": recall, \"f1\": f1}\n"
      ],
      "metadata": {
        "id": "GycJ4rCxRKig"
      },
      "execution_count": 26,
      "outputs": []
    },
    {
      "cell_type": "code",
      "execution_count": 27,
      "metadata": {
        "id": "lYLQoh8TsREi"
      },
      "outputs": [],
      "source": [
        "trainer = Trainer(\n",
        "    model=model,\n",
        "    args=training_args,\n",
        "    train_dataset=tokenized_dataset[\"train\"],\n",
        "    eval_dataset=tokenized_dataset[\"validation\"],\n",
        "    data_collator=custom_data_collator,\n",
        "    compute_metrics=compute_metrics # Pass the function here,\n",
        ")"
      ]
    },
    {
      "cell_type": "code",
      "execution_count": 28,
      "metadata": {
        "colab": {
          "base_uri": "https://localhost:8080/",
          "height": 1000
        },
        "id": "5Qmj9ofAsXY1",
        "outputId": "8aaac429-d713-4a2f-b233-1a9d974f9dcf"
      },
      "outputs": [
        {
          "output_type": "stream",
          "name": "stderr",
          "text": [
            "\u001b[34m\u001b[1mwandb\u001b[0m: \u001b[33mWARNING\u001b[0m The `run_name` is currently set to the same value as `TrainingArguments.output_dir`. If this was not intended, please specify a different run name by setting the `TrainingArguments.run_name` parameter.\n",
            "\u001b[34m\u001b[1mwandb\u001b[0m: Using wandb-core as the SDK backend.  Please refer to https://wandb.me/wandb-core for more information.\n",
            "\u001b[34m\u001b[1mwandb\u001b[0m: Currently logged in as: \u001b[33mekutessa\u001b[0m (\u001b[33mekutessa-auburn\u001b[0m). Use \u001b[1m`wandb login --relogin`\u001b[0m to force relogin\n"
          ]
        },
        {
          "output_type": "display_data",
          "data": {
            "text/plain": [
              "<IPython.core.display.HTML object>"
            ],
            "text/html": [
              "Tracking run with wandb version 0.18.7"
            ]
          },
          "metadata": {}
        },
        {
          "output_type": "display_data",
          "data": {
            "text/plain": [
              "<IPython.core.display.HTML object>"
            ],
            "text/html": [
              "Run data is saved locally in <code>/content/wandb/run-20241202_025655-2no4opes</code>"
            ]
          },
          "metadata": {}
        },
        {
          "output_type": "display_data",
          "data": {
            "text/plain": [
              "<IPython.core.display.HTML object>"
            ],
            "text/html": [
              "Syncing run <strong><a href='https://wandb.ai/ekutessa-auburn/huggingface/runs/2no4opes' target=\"_blank\">./results</a></strong> to <a href='https://wandb.ai/ekutessa-auburn/huggingface' target=\"_blank\">Weights & Biases</a> (<a href='https://wandb.me/developer-guide' target=\"_blank\">docs</a>)<br/>"
            ]
          },
          "metadata": {}
        },
        {
          "output_type": "display_data",
          "data": {
            "text/plain": [
              "<IPython.core.display.HTML object>"
            ],
            "text/html": [
              " View project at <a href='https://wandb.ai/ekutessa-auburn/huggingface' target=\"_blank\">https://wandb.ai/ekutessa-auburn/huggingface</a>"
            ]
          },
          "metadata": {}
        },
        {
          "output_type": "display_data",
          "data": {
            "text/plain": [
              "<IPython.core.display.HTML object>"
            ],
            "text/html": [
              " View run at <a href='https://wandb.ai/ekutessa-auburn/huggingface/runs/2no4opes' target=\"_blank\">https://wandb.ai/ekutessa-auburn/huggingface/runs/2no4opes</a>"
            ]
          },
          "metadata": {}
        },
        {
          "output_type": "stream",
          "name": "stdout",
          "text": [
            "input_ids shape: torch.Size([8, 128])\n",
            "attention_mask shape: torch.Size([8, 128])\n",
            "labels shape: torch.Size([8])\n",
            "input_ids shape: torch.Size([8, 128])\n",
            "attention_mask shape: torch.Size([8, 128])\n",
            "labels shape: torch.Size([8])\n"
          ]
        },
        {
          "output_type": "display_data",
          "data": {
            "text/plain": [
              "<IPython.core.display.HTML object>"
            ],
            "text/html": [
              "\n",
              "    <div>\n",
              "      \n",
              "      <progress value='196' max='196' style='width:300px; height:20px; vertical-align: middle;'></progress>\n",
              "      [196/196 37:57, Epoch 4/4]\n",
              "    </div>\n",
              "    <table border=\"1\" class=\"dataframe\">\n",
              "  <thead>\n",
              " <tr style=\"text-align: left;\">\n",
              "      <th>Epoch</th>\n",
              "      <th>Training Loss</th>\n",
              "      <th>Validation Loss</th>\n",
              "      <th>Accuracy</th>\n",
              "      <th>Precision</th>\n",
              "      <th>Recall</th>\n",
              "      <th>F1</th>\n",
              "    </tr>\n",
              "  </thead>\n",
              "  <tbody>\n",
              "    <tr>\n",
              "      <td>1</td>\n",
              "      <td>4.325100</td>\n",
              "      <td>4.241593</td>\n",
              "      <td>0.060606</td>\n",
              "      <td>0.028370</td>\n",
              "      <td>0.060606</td>\n",
              "      <td>0.020303</td>\n",
              "    </tr>\n",
              "    <tr>\n",
              "      <td>2</td>\n",
              "      <td>4.152000</td>\n",
              "      <td>4.202827</td>\n",
              "      <td>0.070707</td>\n",
              "      <td>0.056638</td>\n",
              "      <td>0.070707</td>\n",
              "      <td>0.034119</td>\n",
              "    </tr>\n",
              "    <tr>\n",
              "      <td>3</td>\n",
              "      <td>4.035000</td>\n",
              "      <td>4.199053</td>\n",
              "      <td>0.050505</td>\n",
              "      <td>0.004008</td>\n",
              "      <td>0.050505</td>\n",
              "      <td>0.007427</td>\n",
              "    </tr>\n",
              "    <tr>\n",
              "      <td>4</td>\n",
              "      <td>3.988400</td>\n",
              "      <td>4.184592</td>\n",
              "      <td>0.050505</td>\n",
              "      <td>0.018696</td>\n",
              "      <td>0.050505</td>\n",
              "      <td>0.018638</td>\n",
              "    </tr>\n",
              "  </tbody>\n",
              "</table><p>"
            ]
          },
          "metadata": {}
        },
        {
          "output_type": "stream",
          "name": "stdout",
          "text": [
            "input_ids shape: torch.Size([8, 128])\n",
            "attention_mask shape: torch.Size([8, 128])\n",
            "labels shape: torch.Size([8])\n",
            "input_ids shape: torch.Size([8, 128])\n",
            "attention_mask shape: torch.Size([8, 128])\n",
            "labels shape: torch.Size([8])\n",
            "input_ids shape: torch.Size([8, 128])\n",
            "attention_mask shape: torch.Size([8, 128])\n",
            "labels shape: torch.Size([8])\n",
            "input_ids shape: torch.Size([8, 128])\n",
            "attention_mask shape: torch.Size([8, 128])\n",
            "labels shape: torch.Size([8])\n",
            "input_ids shape: torch.Size([8, 128])\n",
            "attention_mask shape: torch.Size([8, 128])\n",
            "labels shape: torch.Size([8])\n",
            "input_ids shape: torch.Size([8, 128])\n",
            "attention_mask shape: torch.Size([8, 128])\n",
            "labels shape: torch.Size([8])\n",
            "input_ids shape: torch.Size([8, 128])\n",
            "attention_mask shape: torch.Size([8, 128])\n",
            "labels shape: torch.Size([8])\n",
            "input_ids shape: torch.Size([8, 128])\n",
            "attention_mask shape: torch.Size([8, 128])\n",
            "labels shape: torch.Size([8])\n",
            "input_ids shape: torch.Size([8, 128])\n",
            "attention_mask shape: torch.Size([8, 128])\n",
            "labels shape: torch.Size([8])\n",
            "input_ids shape: torch.Size([8, 128])\n",
            "attention_mask shape: torch.Size([8, 128])\n",
            "labels shape: torch.Size([8])\n",
            "input_ids shape: torch.Size([8, 128])\n",
            "attention_mask shape: torch.Size([8, 128])\n",
            "labels shape: torch.Size([8])\n",
            "input_ids shape: torch.Size([8, 128])\n",
            "attention_mask shape: torch.Size([8, 128])\n",
            "labels shape: torch.Size([8])\n",
            "input_ids shape: torch.Size([8, 128])\n",
            "attention_mask shape: torch.Size([8, 128])\n",
            "labels shape: torch.Size([8])\n",
            "input_ids shape: torch.Size([8, 128])\n",
            "attention_mask shape: torch.Size([8, 128])\n",
            "labels shape: torch.Size([8])\n",
            "input_ids shape: torch.Size([8, 128])\n",
            "attention_mask shape: torch.Size([8, 128])\n",
            "labels shape: torch.Size([8])\n",
            "input_ids shape: torch.Size([8, 128])\n",
            "attention_mask shape: torch.Size([8, 128])\n",
            "labels shape: torch.Size([8])\n",
            "input_ids shape: torch.Size([8, 128])\n",
            "attention_mask shape: torch.Size([8, 128])\n",
            "labels shape: torch.Size([8])\n",
            "input_ids shape: torch.Size([8, 128])\n",
            "attention_mask shape: torch.Size([8, 128])\n",
            "labels shape: torch.Size([8])\n",
            "input_ids shape: torch.Size([8, 128])\n",
            "attention_mask shape: torch.Size([8, 128])\n",
            "labels shape: torch.Size([8])\n",
            "input_ids shape: torch.Size([8, 128])\n",
            "attention_mask shape: torch.Size([8, 128])\n",
            "labels shape: torch.Size([8])\n",
            "input_ids shape: torch.Size([8, 128])\n",
            "attention_mask shape: torch.Size([8, 128])\n",
            "labels shape: torch.Size([8])\n",
            "input_ids shape: torch.Size([8, 128])\n",
            "attention_mask shape: torch.Size([8, 128])\n",
            "labels shape: torch.Size([8])\n",
            "input_ids shape: torch.Size([8, 128])\n",
            "attention_mask shape: torch.Size([8, 128])\n",
            "labels shape: torch.Size([8])\n",
            "input_ids shape: torch.Size([8, 128])\n",
            "attention_mask shape: torch.Size([8, 128])\n",
            "labels shape: torch.Size([8])\n",
            "input_ids shape: torch.Size([8, 128])\n",
            "attention_mask shape: torch.Size([8, 128])\n",
            "labels shape: torch.Size([8])\n",
            "input_ids shape: torch.Size([8, 128])\n",
            "attention_mask shape: torch.Size([8, 128])\n",
            "labels shape: torch.Size([8])\n",
            "input_ids shape: torch.Size([8, 128])\n",
            "attention_mask shape: torch.Size([8, 128])\n",
            "labels shape: torch.Size([8])\n",
            "input_ids shape: torch.Size([8, 128])\n",
            "attention_mask shape: torch.Size([8, 128])\n",
            "labels shape: torch.Size([8])\n",
            "input_ids shape: torch.Size([8, 128])\n",
            "attention_mask shape: torch.Size([8, 128])\n",
            "labels shape: torch.Size([8])\n",
            "input_ids shape: torch.Size([8, 128])\n",
            "attention_mask shape: torch.Size([8, 128])\n",
            "labels shape: torch.Size([8])\n",
            "input_ids shape: torch.Size([8, 128])\n",
            "attention_mask shape: torch.Size([8, 128])\n",
            "labels shape: torch.Size([8])\n",
            "input_ids shape: torch.Size([8, 128])\n",
            "attention_mask shape: torch.Size([8, 128])\n",
            "labels shape: torch.Size([8])\n",
            "input_ids shape: torch.Size([8, 128])\n",
            "attention_mask shape: torch.Size([8, 128])\n",
            "labels shape: torch.Size([8])\n",
            "input_ids shape: torch.Size([8, 128])\n",
            "attention_mask shape: torch.Size([8, 128])\n",
            "labels shape: torch.Size([8])\n",
            "input_ids shape: torch.Size([8, 128])\n",
            "attention_mask shape: torch.Size([8, 128])\n",
            "labels shape: torch.Size([8])\n",
            "input_ids shape: torch.Size([8, 128])\n",
            "attention_mask shape: torch.Size([8, 128])\n",
            "labels shape: torch.Size([8])\n",
            "input_ids shape: torch.Size([8, 128])\n",
            "attention_mask shape: torch.Size([8, 128])\n",
            "labels shape: torch.Size([8])\n",
            "input_ids shape: torch.Size([8, 128])\n",
            "attention_mask shape: torch.Size([8, 128])\n",
            "labels shape: torch.Size([8])\n",
            "input_ids shape: torch.Size([8, 128])\n",
            "attention_mask shape: torch.Size([8, 128])\n",
            "labels shape: torch.Size([8])\n",
            "input_ids shape: torch.Size([8, 128])\n",
            "attention_mask shape: torch.Size([8, 128])\n",
            "labels shape: torch.Size([8])\n",
            "input_ids shape: torch.Size([8, 128])\n",
            "attention_mask shape: torch.Size([8, 128])\n",
            "labels shape: torch.Size([8])\n",
            "input_ids shape: torch.Size([8, 128])\n",
            "attention_mask shape: torch.Size([8, 128])\n",
            "labels shape: torch.Size([8])\n",
            "input_ids shape: torch.Size([8, 128])\n",
            "attention_mask shape: torch.Size([8, 128])\n",
            "labels shape: torch.Size([8])\n",
            "input_ids shape: torch.Size([8, 128])\n",
            "attention_mask shape: torch.Size([8, 128])\n",
            "labels shape: torch.Size([8])\n",
            "input_ids shape: torch.Size([8, 128])\n",
            "attention_mask shape: torch.Size([8, 128])\n",
            "labels shape: torch.Size([8])\n",
            "input_ids shape: torch.Size([8, 128])\n",
            "attention_mask shape: torch.Size([8, 128])\n",
            "labels shape: torch.Size([8])\n",
            "input_ids shape: torch.Size([8, 128])\n",
            "attention_mask shape: torch.Size([8, 128])\n",
            "labels shape: torch.Size([8])\n",
            "input_ids shape: torch.Size([8, 128])\n",
            "attention_mask shape: torch.Size([8, 128])\n",
            "labels shape: torch.Size([8])\n",
            "input_ids shape: torch.Size([8, 128])\n",
            "attention_mask shape: torch.Size([8, 128])\n",
            "labels shape: torch.Size([8])\n",
            "input_ids shape: torch.Size([8, 128])\n",
            "attention_mask shape: torch.Size([8, 128])\n",
            "labels shape: torch.Size([8])\n",
            "input_ids shape: torch.Size([8, 128])\n",
            "attention_mask shape: torch.Size([8, 128])\n",
            "labels shape: torch.Size([8])\n",
            "input_ids shape: torch.Size([8, 128])\n",
            "attention_mask shape: torch.Size([8, 128])\n",
            "labels shape: torch.Size([8])\n",
            "input_ids shape: torch.Size([8, 128])\n",
            "attention_mask shape: torch.Size([8, 128])\n",
            "labels shape: torch.Size([8])\n",
            "input_ids shape: torch.Size([8, 128])\n",
            "attention_mask shape: torch.Size([8, 128])\n",
            "labels shape: torch.Size([8])\n",
            "input_ids shape: torch.Size([8, 128])\n",
            "attention_mask shape: torch.Size([8, 128])\n",
            "labels shape: torch.Size([8])\n",
            "input_ids shape: torch.Size([8, 128])\n",
            "attention_mask shape: torch.Size([8, 128])\n",
            "labels shape: torch.Size([8])\n",
            "input_ids shape: torch.Size([8, 128])\n",
            "attention_mask shape: torch.Size([8, 128])\n",
            "labels shape: torch.Size([8])\n",
            "input_ids shape: torch.Size([8, 128])\n",
            "attention_mask shape: torch.Size([8, 128])\n",
            "labels shape: torch.Size([8])\n",
            "input_ids shape: torch.Size([8, 128])\n",
            "attention_mask shape: torch.Size([8, 128])\n",
            "labels shape: torch.Size([8])\n",
            "input_ids shape: torch.Size([3, 128])\n",
            "attention_mask shape: torch.Size([3, 128])\n",
            "labels shape: torch.Size([3])\n"
          ]
        },
        {
          "output_type": "stream",
          "name": "stderr",
          "text": [
            "/usr/local/lib/python3.10/dist-packages/sklearn/metrics/_classification.py:1531: UndefinedMetricWarning: Precision is ill-defined and being set to 0.0 in labels with no predicted samples. Use `zero_division` parameter to control this behavior.\n",
            "  _warn_prf(average, modifier, f\"{metric.capitalize()} is\", len(result))\n",
            "/usr/local/lib/python3.10/dist-packages/sklearn/metrics/_classification.py:1531: UndefinedMetricWarning: Recall is ill-defined and being set to 0.0 in labels with no true samples. Use `zero_division` parameter to control this behavior.\n",
            "  _warn_prf(average, modifier, f\"{metric.capitalize()} is\", len(result))\n"
          ]
        },
        {
          "output_type": "stream",
          "name": "stdout",
          "text": [
            "input_ids shape: torch.Size([8, 128])\n",
            "attention_mask shape: torch.Size([8, 128])\n",
            "labels shape: torch.Size([8])\n",
            "input_ids shape: torch.Size([8, 128])\n",
            "attention_mask shape: torch.Size([8, 128])\n",
            "labels shape: torch.Size([8])\n",
            "input_ids shape: torch.Size([8, 128])\n",
            "attention_mask shape: torch.Size([8, 128])\n",
            "labels shape: torch.Size([8])\n",
            "input_ids shape: torch.Size([8, 128])\n",
            "attention_mask shape: torch.Size([8, 128])\n",
            "labels shape: torch.Size([8])\n",
            "input_ids shape: torch.Size([8, 128])\n",
            "attention_mask shape: torch.Size([8, 128])\n",
            "labels shape: torch.Size([8])\n",
            "input_ids shape: torch.Size([8, 128])\n",
            "attention_mask shape: torch.Size([8, 128])\n",
            "labels shape: torch.Size([8])\n",
            "input_ids shape: torch.Size([8, 128])\n",
            "attention_mask shape: torch.Size([8, 128])\n",
            "labels shape: torch.Size([8])\n",
            "input_ids shape: torch.Size([8, 128])\n",
            "attention_mask shape: torch.Size([8, 128])\n",
            "labels shape: torch.Size([8])\n",
            "input_ids shape: torch.Size([8, 128])\n",
            "attention_mask shape: torch.Size([8, 128])\n",
            "labels shape: torch.Size([8])\n",
            "input_ids shape: torch.Size([8, 128])\n",
            "attention_mask shape: torch.Size([8, 128])\n",
            "labels shape: torch.Size([8])\n",
            "input_ids shape: torch.Size([8, 128])\n",
            "attention_mask shape: torch.Size([8, 128])\n",
            "labels shape: torch.Size([8])\n",
            "input_ids shape: torch.Size([8, 128])\n",
            "attention_mask shape: torch.Size([8, 128])\n",
            "labels shape: torch.Size([8])\n",
            "input_ids shape: torch.Size([8, 128])\n",
            "attention_mask shape: torch.Size([8, 128])\n",
            "labels shape: torch.Size([8])\n",
            "input_ids shape: torch.Size([8, 128])\n",
            "attention_mask shape: torch.Size([8, 128])\n",
            "labels shape: torch.Size([8])\n",
            "input_ids shape: torch.Size([8, 128])\n",
            "attention_mask shape: torch.Size([8, 128])\n",
            "labels shape: torch.Size([8])\n",
            "input_ids shape: torch.Size([8, 128])\n",
            "attention_mask shape: torch.Size([8, 128])\n",
            "labels shape: torch.Size([8])\n",
            "input_ids shape: torch.Size([8, 128])\n",
            "attention_mask shape: torch.Size([8, 128])\n",
            "labels shape: torch.Size([8])\n",
            "input_ids shape: torch.Size([8, 128])\n",
            "attention_mask shape: torch.Size([8, 128])\n",
            "labels shape: torch.Size([8])\n",
            "input_ids shape: torch.Size([8, 128])\n",
            "attention_mask shape: torch.Size([8, 128])\n",
            "labels shape: torch.Size([8])\n",
            "input_ids shape: torch.Size([8, 128])\n",
            "attention_mask shape: torch.Size([8, 128])\n",
            "labels shape: torch.Size([8])\n",
            "input_ids shape: torch.Size([8, 128])\n",
            "attention_mask shape: torch.Size([8, 128])\n",
            "labels shape: torch.Size([8])\n",
            "input_ids shape: torch.Size([8, 128])\n",
            "attention_mask shape: torch.Size([8, 128])\n",
            "labels shape: torch.Size([8])\n",
            "input_ids shape: torch.Size([8, 128])\n",
            "attention_mask shape: torch.Size([8, 128])\n",
            "labels shape: torch.Size([8])\n",
            "input_ids shape: torch.Size([8, 128])\n",
            "attention_mask shape: torch.Size([8, 128])\n",
            "labels shape: torch.Size([8])\n",
            "input_ids shape: torch.Size([8, 128])\n",
            "attention_mask shape: torch.Size([8, 128])\n",
            "labels shape: torch.Size([8])\n",
            "input_ids shape: torch.Size([8, 128])\n",
            "attention_mask shape: torch.Size([8, 128])\n",
            "labels shape: torch.Size([8])\n",
            "input_ids shape: torch.Size([8, 128])\n",
            "attention_mask shape: torch.Size([8, 128])\n",
            "labels shape: torch.Size([8])\n",
            "input_ids shape: torch.Size([8, 128])\n",
            "attention_mask shape: torch.Size([8, 128])\n",
            "labels shape: torch.Size([8])\n",
            "input_ids shape: torch.Size([8, 128])\n",
            "attention_mask shape: torch.Size([8, 128])\n",
            "labels shape: torch.Size([8])\n",
            "input_ids shape: torch.Size([8, 128])\n",
            "attention_mask shape: torch.Size([8, 128])\n",
            "labels shape: torch.Size([8])\n",
            "input_ids shape: torch.Size([8, 128])\n",
            "attention_mask shape: torch.Size([8, 128])\n",
            "labels shape: torch.Size([8])\n",
            "input_ids shape: torch.Size([8, 128])\n",
            "attention_mask shape: torch.Size([8, 128])\n",
            "labels shape: torch.Size([8])\n",
            "input_ids shape: torch.Size([8, 128])\n",
            "attention_mask shape: torch.Size([8, 128])\n",
            "labels shape: torch.Size([8])\n",
            "input_ids shape: torch.Size([8, 128])\n",
            "attention_mask shape: torch.Size([8, 128])\n",
            "labels shape: torch.Size([8])\n",
            "input_ids shape: torch.Size([8, 128])\n",
            "attention_mask shape: torch.Size([8, 128])\n",
            "labels shape: torch.Size([8])\n",
            "input_ids shape: torch.Size([8, 128])\n",
            "attention_mask shape: torch.Size([8, 128])\n",
            "labels shape: torch.Size([8])\n",
            "input_ids shape: torch.Size([8, 128])\n",
            "attention_mask shape: torch.Size([8, 128])\n",
            "labels shape: torch.Size([8])\n",
            "input_ids shape: torch.Size([8, 128])\n",
            "attention_mask shape: torch.Size([8, 128])\n",
            "labels shape: torch.Size([8])\n",
            "input_ids shape: torch.Size([8, 128])\n",
            "attention_mask shape: torch.Size([8, 128])\n",
            "labels shape: torch.Size([8])\n",
            "input_ids shape: torch.Size([8, 128])\n",
            "attention_mask shape: torch.Size([8, 128])\n",
            "labels shape: torch.Size([8])\n",
            "input_ids shape: torch.Size([8, 128])\n",
            "attention_mask shape: torch.Size([8, 128])\n",
            "labels shape: torch.Size([8])\n",
            "input_ids shape: torch.Size([8, 128])\n",
            "attention_mask shape: torch.Size([8, 128])\n",
            "labels shape: torch.Size([8])\n",
            "input_ids shape: torch.Size([8, 128])\n",
            "attention_mask shape: torch.Size([8, 128])\n",
            "labels shape: torch.Size([8])\n",
            "input_ids shape: torch.Size([8, 128])\n",
            "attention_mask shape: torch.Size([8, 128])\n",
            "labels shape: torch.Size([8])\n",
            "input_ids shape: torch.Size([8, 128])\n",
            "attention_mask shape: torch.Size([8, 128])\n",
            "labels shape: torch.Size([8])\n",
            "input_ids shape: torch.Size([8, 128])\n",
            "attention_mask shape: torch.Size([8, 128])\n",
            "labels shape: torch.Size([8])\n",
            "input_ids shape: torch.Size([8, 128])\n",
            "attention_mask shape: torch.Size([8, 128])\n",
            "labels shape: torch.Size([8])\n",
            "input_ids shape: torch.Size([8, 128])\n",
            "attention_mask shape: torch.Size([8, 128])\n",
            "labels shape: torch.Size([8])\n",
            "input_ids shape: torch.Size([8, 128])\n",
            "attention_mask shape: torch.Size([8, 128])\n",
            "labels shape: torch.Size([8])\n",
            "input_ids shape: torch.Size([8, 128])\n",
            "attention_mask shape: torch.Size([8, 128])\n",
            "labels shape: torch.Size([8])\n",
            "input_ids shape: torch.Size([8, 128])\n",
            "attention_mask shape: torch.Size([8, 128])\n",
            "labels shape: torch.Size([8])\n",
            "input_ids shape: torch.Size([8, 128])\n",
            "attention_mask shape: torch.Size([8, 128])\n",
            "labels shape: torch.Size([8])\n",
            "input_ids shape: torch.Size([8, 128])\n",
            "attention_mask shape: torch.Size([8, 128])\n",
            "labels shape: torch.Size([8])\n",
            "input_ids shape: torch.Size([8, 128])\n",
            "attention_mask shape: torch.Size([8, 128])\n",
            "labels shape: torch.Size([8])\n",
            "input_ids shape: torch.Size([8, 128])\n",
            "attention_mask shape: torch.Size([8, 128])\n",
            "labels shape: torch.Size([8])\n",
            "input_ids shape: torch.Size([8, 128])\n",
            "attention_mask shape: torch.Size([8, 128])\n",
            "labels shape: torch.Size([8])\n",
            "input_ids shape: torch.Size([8, 128])\n",
            "attention_mask shape: torch.Size([8, 128])\n",
            "labels shape: torch.Size([8])\n",
            "input_ids shape: torch.Size([8, 128])\n",
            "attention_mask shape: torch.Size([8, 128])\n",
            "labels shape: torch.Size([8])\n",
            "input_ids shape: torch.Size([8, 128])\n",
            "attention_mask shape: torch.Size([8, 128])\n",
            "labels shape: torch.Size([8])\n",
            "input_ids shape: torch.Size([8, 128])\n",
            "attention_mask shape: torch.Size([8, 128])\n",
            "labels shape: torch.Size([8])\n",
            "input_ids shape: torch.Size([8, 128])\n",
            "attention_mask shape: torch.Size([8, 128])\n",
            "labels shape: torch.Size([8])\n",
            "input_ids shape: torch.Size([3, 128])\n",
            "attention_mask shape: torch.Size([3, 128])\n",
            "labels shape: torch.Size([3])\n"
          ]
        },
        {
          "output_type": "stream",
          "name": "stderr",
          "text": [
            "/usr/local/lib/python3.10/dist-packages/sklearn/metrics/_classification.py:1531: UndefinedMetricWarning: Precision is ill-defined and being set to 0.0 in labels with no predicted samples. Use `zero_division` parameter to control this behavior.\n",
            "  _warn_prf(average, modifier, f\"{metric.capitalize()} is\", len(result))\n",
            "/usr/local/lib/python3.10/dist-packages/sklearn/metrics/_classification.py:1531: UndefinedMetricWarning: Recall is ill-defined and being set to 0.0 in labels with no true samples. Use `zero_division` parameter to control this behavior.\n",
            "  _warn_prf(average, modifier, f\"{metric.capitalize()} is\", len(result))\n"
          ]
        },
        {
          "output_type": "stream",
          "name": "stdout",
          "text": [
            "input_ids shape: torch.Size([8, 128])\n",
            "attention_mask shape: torch.Size([8, 128])\n",
            "labels shape: torch.Size([8])\n",
            "input_ids shape: torch.Size([8, 128])\n",
            "attention_mask shape: torch.Size([8, 128])\n",
            "labels shape: torch.Size([8])\n",
            "input_ids shape: torch.Size([8, 128])\n",
            "attention_mask shape: torch.Size([8, 128])\n",
            "labels shape: torch.Size([8])\n",
            "input_ids shape: torch.Size([8, 128])\n",
            "attention_mask shape: torch.Size([8, 128])\n",
            "labels shape: torch.Size([8])\n",
            "input_ids shape: torch.Size([8, 128])\n",
            "attention_mask shape: torch.Size([8, 128])\n",
            "labels shape: torch.Size([8])\n",
            "input_ids shape: torch.Size([8, 128])\n",
            "attention_mask shape: torch.Size([8, 128])\n",
            "labels shape: torch.Size([8])\n",
            "input_ids shape: torch.Size([8, 128])\n",
            "attention_mask shape: torch.Size([8, 128])\n",
            "labels shape: torch.Size([8])\n",
            "input_ids shape: torch.Size([8, 128])\n",
            "attention_mask shape: torch.Size([8, 128])\n",
            "labels shape: torch.Size([8])\n",
            "input_ids shape: torch.Size([8, 128])\n",
            "attention_mask shape: torch.Size([8, 128])\n",
            "labels shape: torch.Size([8])\n",
            "input_ids shape: torch.Size([8, 128])\n",
            "attention_mask shape: torch.Size([8, 128])\n",
            "labels shape: torch.Size([8])\n",
            "input_ids shape: torch.Size([8, 128])\n",
            "attention_mask shape: torch.Size([8, 128])\n",
            "labels shape: torch.Size([8])\n",
            "input_ids shape: torch.Size([8, 128])\n",
            "attention_mask shape: torch.Size([8, 128])\n",
            "labels shape: torch.Size([8])\n",
            "input_ids shape: torch.Size([8, 128])\n",
            "attention_mask shape: torch.Size([8, 128])\n",
            "labels shape: torch.Size([8])\n",
            "input_ids shape: torch.Size([8, 128])\n",
            "attention_mask shape: torch.Size([8, 128])\n",
            "labels shape: torch.Size([8])\n",
            "input_ids shape: torch.Size([8, 128])\n",
            "attention_mask shape: torch.Size([8, 128])\n",
            "labels shape: torch.Size([8])\n",
            "input_ids shape: torch.Size([8, 128])\n",
            "attention_mask shape: torch.Size([8, 128])\n",
            "labels shape: torch.Size([8])\n",
            "input_ids shape: torch.Size([8, 128])\n",
            "attention_mask shape: torch.Size([8, 128])\n",
            "labels shape: torch.Size([8])\n",
            "input_ids shape: torch.Size([8, 128])\n",
            "attention_mask shape: torch.Size([8, 128])\n",
            "labels shape: torch.Size([8])\n",
            "input_ids shape: torch.Size([8, 128])\n",
            "attention_mask shape: torch.Size([8, 128])\n",
            "labels shape: torch.Size([8])\n",
            "input_ids shape: torch.Size([8, 128])\n",
            "attention_mask shape: torch.Size([8, 128])\n",
            "labels shape: torch.Size([8])\n",
            "input_ids shape: torch.Size([8, 128])\n",
            "attention_mask shape: torch.Size([8, 128])\n",
            "labels shape: torch.Size([8])\n",
            "input_ids shape: torch.Size([8, 128])\n",
            "attention_mask shape: torch.Size([8, 128])\n",
            "labels shape: torch.Size([8])\n",
            "input_ids shape: torch.Size([8, 128])\n",
            "attention_mask shape: torch.Size([8, 128])\n",
            "labels shape: torch.Size([8])\n",
            "input_ids shape: torch.Size([8, 128])\n",
            "attention_mask shape: torch.Size([8, 128])\n",
            "labels shape: torch.Size([8])\n",
            "input_ids shape: torch.Size([8, 128])\n",
            "attention_mask shape: torch.Size([8, 128])\n",
            "labels shape: torch.Size([8])\n",
            "input_ids shape: torch.Size([8, 128])\n",
            "attention_mask shape: torch.Size([8, 128])\n",
            "labels shape: torch.Size([8])\n",
            "input_ids shape: torch.Size([8, 128])\n",
            "attention_mask shape: torch.Size([8, 128])\n",
            "labels shape: torch.Size([8])\n",
            "input_ids shape: torch.Size([8, 128])\n",
            "attention_mask shape: torch.Size([8, 128])\n",
            "labels shape: torch.Size([8])\n",
            "input_ids shape: torch.Size([8, 128])\n",
            "attention_mask shape: torch.Size([8, 128])\n",
            "labels shape: torch.Size([8])\n",
            "input_ids shape: torch.Size([8, 128])\n",
            "attention_mask shape: torch.Size([8, 128])\n",
            "labels shape: torch.Size([8])\n",
            "input_ids shape: torch.Size([8, 128])\n",
            "attention_mask shape: torch.Size([8, 128])\n",
            "labels shape: torch.Size([8])\n",
            "input_ids shape: torch.Size([8, 128])\n",
            "attention_mask shape: torch.Size([8, 128])\n",
            "labels shape: torch.Size([8])\n",
            "input_ids shape: torch.Size([8, 128])\n",
            "attention_mask shape: torch.Size([8, 128])\n",
            "labels shape: torch.Size([8])\n",
            "input_ids shape: torch.Size([8, 128])\n",
            "attention_mask shape: torch.Size([8, 128])\n",
            "labels shape: torch.Size([8])\n",
            "input_ids shape: torch.Size([8, 128])\n",
            "attention_mask shape: torch.Size([8, 128])\n",
            "labels shape: torch.Size([8])\n",
            "input_ids shape: torch.Size([8, 128])\n",
            "attention_mask shape: torch.Size([8, 128])\n",
            "labels shape: torch.Size([8])\n",
            "input_ids shape: torch.Size([8, 128])\n",
            "attention_mask shape: torch.Size([8, 128])\n",
            "labels shape: torch.Size([8])\n",
            "input_ids shape: torch.Size([8, 128])\n",
            "attention_mask shape: torch.Size([8, 128])\n",
            "labels shape: torch.Size([8])\n",
            "input_ids shape: torch.Size([8, 128])\n",
            "attention_mask shape: torch.Size([8, 128])\n",
            "labels shape: torch.Size([8])\n",
            "input_ids shape: torch.Size([8, 128])\n",
            "attention_mask shape: torch.Size([8, 128])\n",
            "labels shape: torch.Size([8])\n",
            "input_ids shape: torch.Size([8, 128])\n",
            "attention_mask shape: torch.Size([8, 128])\n",
            "labels shape: torch.Size([8])\n",
            "input_ids shape: torch.Size([8, 128])\n",
            "attention_mask shape: torch.Size([8, 128])\n",
            "labels shape: torch.Size([8])\n",
            "input_ids shape: torch.Size([8, 128])\n",
            "attention_mask shape: torch.Size([8, 128])\n",
            "labels shape: torch.Size([8])\n",
            "input_ids shape: torch.Size([8, 128])\n",
            "attention_mask shape: torch.Size([8, 128])\n",
            "labels shape: torch.Size([8])\n",
            "input_ids shape: torch.Size([8, 128])\n",
            "attention_mask shape: torch.Size([8, 128])\n",
            "labels shape: torch.Size([8])\n",
            "input_ids shape: torch.Size([8, 128])\n",
            "attention_mask shape: torch.Size([8, 128])\n",
            "labels shape: torch.Size([8])\n",
            "input_ids shape: torch.Size([8, 128])\n",
            "attention_mask shape: torch.Size([8, 128])\n",
            "labels shape: torch.Size([8])\n",
            "input_ids shape: torch.Size([8, 128])\n",
            "attention_mask shape: torch.Size([8, 128])\n",
            "labels shape: torch.Size([8])\n",
            "input_ids shape: torch.Size([8, 128])\n",
            "attention_mask shape: torch.Size([8, 128])\n",
            "labels shape: torch.Size([8])\n",
            "input_ids shape: torch.Size([8, 128])\n",
            "attention_mask shape: torch.Size([8, 128])\n",
            "labels shape: torch.Size([8])\n",
            "input_ids shape: torch.Size([8, 128])\n",
            "attention_mask shape: torch.Size([8, 128])\n",
            "labels shape: torch.Size([8])\n",
            "input_ids shape: torch.Size([8, 128])\n",
            "attention_mask shape: torch.Size([8, 128])\n",
            "labels shape: torch.Size([8])\n",
            "input_ids shape: torch.Size([8, 128])\n",
            "attention_mask shape: torch.Size([8, 128])\n",
            "labels shape: torch.Size([8])\n",
            "input_ids shape: torch.Size([8, 128])\n",
            "attention_mask shape: torch.Size([8, 128])\n",
            "labels shape: torch.Size([8])\n",
            "input_ids shape: torch.Size([8, 128])\n",
            "attention_mask shape: torch.Size([8, 128])\n",
            "labels shape: torch.Size([8])\n",
            "input_ids shape: torch.Size([8, 128])\n",
            "attention_mask shape: torch.Size([8, 128])\n",
            "labels shape: torch.Size([8])\n",
            "input_ids shape: torch.Size([8, 128])\n",
            "attention_mask shape: torch.Size([8, 128])\n",
            "labels shape: torch.Size([8])\n",
            "input_ids shape: torch.Size([8, 128])\n",
            "attention_mask shape: torch.Size([8, 128])\n",
            "labels shape: torch.Size([8])\n",
            "input_ids shape: torch.Size([8, 128])\n",
            "attention_mask shape: torch.Size([8, 128])\n",
            "labels shape: torch.Size([8])\n",
            "input_ids shape: torch.Size([8, 128])\n",
            "attention_mask shape: torch.Size([8, 128])\n",
            "labels shape: torch.Size([8])\n",
            "input_ids shape: torch.Size([8, 128])\n",
            "attention_mask shape: torch.Size([8, 128])\n",
            "labels shape: torch.Size([8])\n",
            "input_ids shape: torch.Size([3, 128])\n",
            "attention_mask shape: torch.Size([3, 128])\n",
            "labels shape: torch.Size([3])\n"
          ]
        },
        {
          "output_type": "stream",
          "name": "stderr",
          "text": [
            "/usr/local/lib/python3.10/dist-packages/sklearn/metrics/_classification.py:1531: UndefinedMetricWarning: Precision is ill-defined and being set to 0.0 in labels with no predicted samples. Use `zero_division` parameter to control this behavior.\n",
            "  _warn_prf(average, modifier, f\"{metric.capitalize()} is\", len(result))\n",
            "/usr/local/lib/python3.10/dist-packages/sklearn/metrics/_classification.py:1531: UndefinedMetricWarning: Recall is ill-defined and being set to 0.0 in labels with no true samples. Use `zero_division` parameter to control this behavior.\n",
            "  _warn_prf(average, modifier, f\"{metric.capitalize()} is\", len(result))\n"
          ]
        },
        {
          "output_type": "stream",
          "name": "stdout",
          "text": [
            "input_ids shape: torch.Size([8, 128])\n",
            "attention_mask shape: torch.Size([8, 128])\n",
            "labels shape: torch.Size([8])\n",
            "input_ids shape: torch.Size([8, 128])\n",
            "attention_mask shape: torch.Size([8, 128])\n",
            "labels shape: torch.Size([8])\n",
            "input_ids shape: torch.Size([8, 128])\n",
            "attention_mask shape: torch.Size([8, 128])\n",
            "labels shape: torch.Size([8])\n",
            "input_ids shape: torch.Size([8, 128])\n",
            "attention_mask shape: torch.Size([8, 128])\n",
            "labels shape: torch.Size([8])\n",
            "input_ids shape: torch.Size([8, 128])\n",
            "attention_mask shape: torch.Size([8, 128])\n",
            "labels shape: torch.Size([8])\n",
            "input_ids shape: torch.Size([8, 128])\n",
            "attention_mask shape: torch.Size([8, 128])\n",
            "labels shape: torch.Size([8])\n",
            "input_ids shape: torch.Size([8, 128])\n",
            "attention_mask shape: torch.Size([8, 128])\n",
            "labels shape: torch.Size([8])\n",
            "input_ids shape: torch.Size([8, 128])\n",
            "attention_mask shape: torch.Size([8, 128])\n",
            "labels shape: torch.Size([8])\n",
            "input_ids shape: torch.Size([8, 128])\n",
            "attention_mask shape: torch.Size([8, 128])\n",
            "labels shape: torch.Size([8])\n",
            "input_ids shape: torch.Size([8, 128])\n",
            "attention_mask shape: torch.Size([8, 128])\n",
            "labels shape: torch.Size([8])\n",
            "input_ids shape: torch.Size([8, 128])\n",
            "attention_mask shape: torch.Size([8, 128])\n",
            "labels shape: torch.Size([8])\n",
            "input_ids shape: torch.Size([8, 128])\n",
            "attention_mask shape: torch.Size([8, 128])\n",
            "labels shape: torch.Size([8])\n",
            "input_ids shape: torch.Size([8, 128])\n",
            "attention_mask shape: torch.Size([8, 128])\n",
            "labels shape: torch.Size([8])\n",
            "input_ids shape: torch.Size([8, 128])\n",
            "attention_mask shape: torch.Size([8, 128])\n",
            "labels shape: torch.Size([8])\n",
            "input_ids shape: torch.Size([8, 128])\n",
            "attention_mask shape: torch.Size([8, 128])\n",
            "labels shape: torch.Size([8])\n",
            "input_ids shape: torch.Size([8, 128])\n",
            "attention_mask shape: torch.Size([8, 128])\n",
            "labels shape: torch.Size([8])\n",
            "input_ids shape: torch.Size([8, 128])\n",
            "attention_mask shape: torch.Size([8, 128])\n",
            "labels shape: torch.Size([8])\n",
            "input_ids shape: torch.Size([8, 128])\n",
            "attention_mask shape: torch.Size([8, 128])\n",
            "labels shape: torch.Size([8])\n",
            "input_ids shape: torch.Size([8, 128])\n",
            "attention_mask shape: torch.Size([8, 128])\n",
            "labels shape: torch.Size([8])\n",
            "input_ids shape: torch.Size([8, 128])\n",
            "attention_mask shape: torch.Size([8, 128])\n",
            "labels shape: torch.Size([8])\n",
            "input_ids shape: torch.Size([8, 128])\n",
            "attention_mask shape: torch.Size([8, 128])\n",
            "labels shape: torch.Size([8])\n",
            "input_ids shape: torch.Size([8, 128])\n",
            "attention_mask shape: torch.Size([8, 128])\n",
            "labels shape: torch.Size([8])\n",
            "input_ids shape: torch.Size([8, 128])\n",
            "attention_mask shape: torch.Size([8, 128])\n",
            "labels shape: torch.Size([8])\n",
            "input_ids shape: torch.Size([8, 128])\n",
            "attention_mask shape: torch.Size([8, 128])\n",
            "labels shape: torch.Size([8])\n",
            "input_ids shape: torch.Size([8, 128])\n",
            "attention_mask shape: torch.Size([8, 128])\n",
            "labels shape: torch.Size([8])\n",
            "input_ids shape: torch.Size([8, 128])\n",
            "attention_mask shape: torch.Size([8, 128])\n",
            "labels shape: torch.Size([8])\n",
            "input_ids shape: torch.Size([8, 128])\n",
            "attention_mask shape: torch.Size([8, 128])\n",
            "labels shape: torch.Size([8])\n",
            "input_ids shape: torch.Size([8, 128])\n",
            "attention_mask shape: torch.Size([8, 128])\n",
            "labels shape: torch.Size([8])\n",
            "input_ids shape: torch.Size([8, 128])\n",
            "attention_mask shape: torch.Size([8, 128])\n",
            "labels shape: torch.Size([8])\n",
            "input_ids shape: torch.Size([8, 128])\n",
            "attention_mask shape: torch.Size([8, 128])\n",
            "labels shape: torch.Size([8])\n",
            "input_ids shape: torch.Size([8, 128])\n",
            "attention_mask shape: torch.Size([8, 128])\n",
            "labels shape: torch.Size([8])\n",
            "input_ids shape: torch.Size([8, 128])\n",
            "attention_mask shape: torch.Size([8, 128])\n",
            "labels shape: torch.Size([8])\n",
            "input_ids shape: torch.Size([8, 128])\n",
            "attention_mask shape: torch.Size([8, 128])\n",
            "labels shape: torch.Size([8])\n",
            "input_ids shape: torch.Size([8, 128])\n",
            "attention_mask shape: torch.Size([8, 128])\n",
            "labels shape: torch.Size([8])\n",
            "input_ids shape: torch.Size([8, 128])\n",
            "attention_mask shape: torch.Size([8, 128])\n",
            "labels shape: torch.Size([8])\n",
            "input_ids shape: torch.Size([8, 128])\n",
            "attention_mask shape: torch.Size([8, 128])\n",
            "labels shape: torch.Size([8])\n",
            "input_ids shape: torch.Size([8, 128])\n",
            "attention_mask shape: torch.Size([8, 128])\n",
            "labels shape: torch.Size([8])\n",
            "input_ids shape: torch.Size([8, 128])\n",
            "attention_mask shape: torch.Size([8, 128])\n",
            "labels shape: torch.Size([8])\n",
            "input_ids shape: torch.Size([8, 128])\n",
            "attention_mask shape: torch.Size([8, 128])\n",
            "labels shape: torch.Size([8])\n",
            "input_ids shape: torch.Size([8, 128])\n",
            "attention_mask shape: torch.Size([8, 128])\n",
            "labels shape: torch.Size([8])\n",
            "input_ids shape: torch.Size([8, 128])\n",
            "attention_mask shape: torch.Size([8, 128])\n",
            "labels shape: torch.Size([8])\n",
            "input_ids shape: torch.Size([8, 128])\n",
            "attention_mask shape: torch.Size([8, 128])\n",
            "labels shape: torch.Size([8])\n",
            "input_ids shape: torch.Size([8, 128])\n",
            "attention_mask shape: torch.Size([8, 128])\n",
            "labels shape: torch.Size([8])\n",
            "input_ids shape: torch.Size([8, 128])\n",
            "attention_mask shape: torch.Size([8, 128])\n",
            "labels shape: torch.Size([8])\n",
            "input_ids shape: torch.Size([8, 128])\n",
            "attention_mask shape: torch.Size([8, 128])\n",
            "labels shape: torch.Size([8])\n",
            "input_ids shape: torch.Size([8, 128])\n",
            "attention_mask shape: torch.Size([8, 128])\n",
            "labels shape: torch.Size([8])\n",
            "input_ids shape: torch.Size([8, 128])\n",
            "attention_mask shape: torch.Size([8, 128])\n",
            "labels shape: torch.Size([8])\n",
            "input_ids shape: torch.Size([8, 128])\n",
            "attention_mask shape: torch.Size([8, 128])\n",
            "labels shape: torch.Size([8])\n",
            "input_ids shape: torch.Size([8, 128])\n",
            "attention_mask shape: torch.Size([8, 128])\n",
            "labels shape: torch.Size([8])\n",
            "input_ids shape: torch.Size([8, 128])\n",
            "attention_mask shape: torch.Size([8, 128])\n",
            "labels shape: torch.Size([8])\n",
            "input_ids shape: torch.Size([8, 128])\n",
            "attention_mask shape: torch.Size([8, 128])\n",
            "labels shape: torch.Size([8])\n",
            "input_ids shape: torch.Size([8, 128])\n",
            "attention_mask shape: torch.Size([8, 128])\n",
            "labels shape: torch.Size([8])\n",
            "input_ids shape: torch.Size([8, 128])\n",
            "attention_mask shape: torch.Size([8, 128])\n",
            "labels shape: torch.Size([8])\n",
            "input_ids shape: torch.Size([8, 128])\n",
            "attention_mask shape: torch.Size([8, 128])\n",
            "labels shape: torch.Size([8])\n",
            "input_ids shape: torch.Size([8, 128])\n",
            "attention_mask shape: torch.Size([8, 128])\n",
            "labels shape: torch.Size([8])\n",
            "input_ids shape: torch.Size([8, 128])\n",
            "attention_mask shape: torch.Size([8, 128])\n",
            "labels shape: torch.Size([8])\n",
            "input_ids shape: torch.Size([8, 128])\n",
            "attention_mask shape: torch.Size([8, 128])\n",
            "labels shape: torch.Size([8])\n",
            "input_ids shape: torch.Size([8, 128])\n",
            "attention_mask shape: torch.Size([8, 128])\n",
            "labels shape: torch.Size([8])\n",
            "input_ids shape: torch.Size([8, 128])\n",
            "attention_mask shape: torch.Size([8, 128])\n",
            "labels shape: torch.Size([8])\n",
            "input_ids shape: torch.Size([8, 128])\n",
            "attention_mask shape: torch.Size([8, 128])\n",
            "labels shape: torch.Size([8])\n",
            "input_ids shape: torch.Size([8, 128])\n",
            "attention_mask shape: torch.Size([8, 128])\n",
            "labels shape: torch.Size([8])\n",
            "input_ids shape: torch.Size([3, 128])\n",
            "attention_mask shape: torch.Size([3, 128])\n",
            "labels shape: torch.Size([3])\n"
          ]
        },
        {
          "output_type": "stream",
          "name": "stderr",
          "text": [
            "/usr/local/lib/python3.10/dist-packages/sklearn/metrics/_classification.py:1531: UndefinedMetricWarning: Precision is ill-defined and being set to 0.0 in labels with no predicted samples. Use `zero_division` parameter to control this behavior.\n",
            "  _warn_prf(average, modifier, f\"{metric.capitalize()} is\", len(result))\n",
            "/usr/local/lib/python3.10/dist-packages/sklearn/metrics/_classification.py:1531: UndefinedMetricWarning: Recall is ill-defined and being set to 0.0 in labels with no true samples. Use `zero_division` parameter to control this behavior.\n",
            "  _warn_prf(average, modifier, f\"{metric.capitalize()} is\", len(result))\n"
          ]
        },
        {
          "output_type": "execute_result",
          "data": {
            "text/plain": [
              "TrainOutput(global_step=196, training_loss=4.127399113713478, metrics={'train_runtime': 2296.5516, 'train_samples_per_second': 0.683, 'train_steps_per_second': 0.085, 'total_flos': 103199726837760.0, 'train_loss': 4.127399113713478, 'epoch': 4.0})"
            ]
          },
          "metadata": {},
          "execution_count": 28
        }
      ],
      "source": [
        "trainer.train()\n",
        "# bf19dff74bb3083b13faf628d07195823fc10890"
      ]
    },
    {
      "cell_type": "code",
      "source": [
        "print(f\"Model output configuration: {model.config.num_labels}\")\n"
      ],
      "metadata": {
        "colab": {
          "base_uri": "https://localhost:8080/"
        },
        "id": "k9HIWZ3V0hdc",
        "outputId": "46168f5d-92be-4382-fa95-54dc73ac9624"
      },
      "execution_count": 29,
      "outputs": [
        {
          "output_type": "stream",
          "name": "stdout",
          "text": [
            "Model output configuration: 67\n"
          ]
        }
      ]
    },
    {
      "cell_type": "markdown",
      "source": [
        "## Understanding the results:\n",
        "(pasted from gemini)\n",
        "The \"good\" values for accuracy, precision, and F1 score depend on the nature of your task, the class imbalance, and what you prioritize in the performance metrics. Here's a breakdown of each metric and general guidelines:\n",
        "\n",
        "1. Accuracy:\n",
        "Definition: Accuracy is the proportion of correct predictions out of all predictions. It is calculated as:\n",
        "Accuracy\n",
        "=\n",
        "True Positives\n",
        "+\n",
        "True Negatives\n",
        "Total Samples\n",
        "Accuracy=\n",
        "Total Samples\n",
        "True Positives+True Negatives\n",
        "​\n",
        "\n",
        "Good values:\n",
        "Generally, higher accuracy is better. However, accuracy can be misleading in imbalanced datasets. For example, if 95% of your data is class A and 5% is class B, a model predicting class A all the time will have 95% accuracy but will fail to identify any instances of class B.\n",
        "A \"good\" accuracy value depends on the dataset, but over 90% is usually strong in most tasks.\n",
        "2. Precision:\n",
        "Definition: Precision measures how many of the predicted positive cases are actually positive. It is calculated as:\n",
        "Precision\n",
        "=\n",
        "True Positives\n",
        "True Positives\n",
        "+\n",
        "False Positives\n",
        "Precision=\n",
        "True Positives+False Positives\n",
        "True Positives\n",
        "​\n",
        "\n",
        "Good values:\n",
        "High precision means fewer false positives. It's important when you want to minimize the cost of false alarms (e.g., in medical diagnostics or fraud detection).\n",
        "Precision close to 1.0 is ideal (i.e., low number of false positives), but depending on the application, a precision of 0.7 or higher could be acceptable.\n",
        "3. Recall (Sensitivity):\n",
        "Definition: Recall measures how many of the actual positive cases were correctly identified. It is calculated as:\n",
        "Recall\n",
        "=\n",
        "True Positives\n",
        "True Positives\n",
        "+\n",
        "False Negatives\n",
        "Recall=\n",
        "True Positives+False Negatives\n",
        "True Positives\n",
        "​\n",
        "\n",
        "Good values:\n",
        "High recall means fewer false negatives, which is important when you don't want to miss any positive cases (e.g., in detecting diseases or rare events).\n",
        "Ideally, you want recall close to 1.0, but depending on the use case, a recall of 0.7 or higher can be acceptable.\n",
        "4. F1 Score:\n",
        "Definition: F1 score is the harmonic mean of precision and recall, providing a balance between the two. It is calculated as:\n",
        "F1\n",
        "=\n",
        "2\n",
        "×\n",
        "Precision\n",
        "×\n",
        "Recall\n",
        "Precision\n",
        "+\n",
        "Recall\n",
        "F1=2×\n",
        "Precision+Recall\n",
        "Precision×Recall\n",
        "​\n",
        "\n",
        "Good values:\n",
        "The F1 score balances the trade-off between precision and recall. A high F1 score suggests that both precision and recall are high.\n",
        "An F1 score close to 1.0 is ideal, but 0.7 or higher is typically good for many tasks, especially if the precision and recall are balanced. If precision and recall differ significantly, the F1 score will reflect that imbalance.\n",
        "What is considered a \"good\" score?\n",
        "For imbalanced data: Accuracy can be misleading in imbalanced datasets, so precision, recall, and F1 score become more important. For example, in fraud detection, you might prioritize high recall (identifying as many fraudulent cases as possible) over accuracy.\n",
        "\n",
        "General guidelines:\n",
        "\n",
        "Precision and recall should both be as high as possible, but they may need to be balanced based on the application (e.g., medical diagnosis vs. general classification).\n",
        "F1 score is often considered the best metric when you need to balance precision and recall, especially if you're unsure which one to prioritize.\n",
        "Example in practice:\n",
        "High precision, lower recall: This is acceptable when false positives are more costly than false negatives (e.g., detecting rare diseases where you don't want to misclassify a healthy person as sick).\n",
        "High recall, lower precision: This is better when missing positives is more costly than false alarms (e.g., detecting a rare condition and avoiding missing any positive cases).\n",
        "Benchmarks:\n",
        "Good scores in balanced datasets:\n",
        "\n",
        "Accuracy: > 85%\n",
        "Precision: > 0.75\n",
        "Recall: > 0.75\n",
        "F1 Score: > 0.75\n",
        "Good scores in imbalanced datasets (depending on class imbalance):\n",
        "\n",
        "Precision and Recall values might vary based on how much you care about false positives or false negatives. Aim for high F1 score in these cases."
      ],
      "metadata": {
        "id": "DEXT0SGl8ZnX"
      }
    },
    {
      "cell_type": "markdown",
      "source": [
        "#export the model and convert to ONNX"
      ],
      "metadata": {
        "id": "twKKttmv-0ZG"
      }
    },
    {
      "cell_type": "code",
      "execution_count": 30,
      "metadata": {
        "id": "aWqvLaHMyhIL",
        "colab": {
          "base_uri": "https://localhost:8080/"
        },
        "outputId": "8acb6169-1adf-4d35-b358-a5848158e4b5"
      },
      "outputs": [
        {
          "output_type": "stream",
          "name": "stdout",
          "text": [
            "model files: \n",
            "\n",
            "tokenizer files: \n",
            "\n"
          ]
        },
        {
          "output_type": "execute_result",
          "data": {
            "text/plain": [
              "('./fine_tuned_model/tokenizer_config.json',\n",
              " './fine_tuned_model/special_tokens_map.json',\n",
              " './fine_tuned_model/vocab.txt',\n",
              " './fine_tuned_model/added_tokens.json',\n",
              " './fine_tuned_model/tokenizer.json')"
            ]
          },
          "metadata": {},
          "execution_count": 30
        }
      ],
      "source": [
        "#Export fine tune model\n",
        "print(\"model files: \\n\")\n",
        "model.save_pretrained(\"./fine_tuned_model\", safe_serialization=False)\n",
        "print(\"tokenizer files: \\n\")\n",
        "tokenizer.save_pretrained(\"./fine_tuned_model\")"
      ]
    },
    {
      "cell_type": "markdown",
      "source": [
        "Explanation of the files:\n",
        "- added_tokens.json: This file contains additional tokens added to the model's vocabulary.\n",
        "- config.json: Contains model-specific configuration settings.\n",
        "- generation_config.json: Model-specific settings related to generation tasks (not directly relevant for tokenization).\n",
        "- special_tokens_map.json: Maps special tokens such as [CLS], [SEP], etc.\n",
        "- spiece.model: The SentencePiece model file containing the vocabulary and subword segmentation rules.\n",
        "- tokenizer_config.json: Configuration for the tokenizer itself."
      ],
      "metadata": {
        "id": "CsXiPVKXcrv_"
      }
    },
    {
      "cell_type": "markdown",
      "source": [
        "Below is the code to convert the exported model to ONNX."
      ],
      "metadata": {
        "id": "0yx6BC6Lq-qt"
      }
    },
    {
      "cell_type": "code",
      "source": [
        "!pip install optimum[onnxruntime] -q\n"
      ],
      "metadata": {
        "colab": {
          "base_uri": "https://localhost:8080/"
        },
        "id": "tO5kVLkQ6IHL",
        "outputId": "67e3a3c0-f03b-4d33-afe3-1080f9bac64c"
      },
      "execution_count": 31,
      "outputs": [
        {
          "output_type": "stream",
          "name": "stdout",
          "text": [
            "Requirement already satisfied: optimum[onnxruntime] in /usr/local/lib/python3.10/dist-packages (1.23.3)\n",
            "Requirement already satisfied: coloredlogs in /usr/local/lib/python3.10/dist-packages (from optimum[onnxruntime]) (15.0.1)\n",
            "Requirement already satisfied: sympy in /usr/local/lib/python3.10/dist-packages (from optimum[onnxruntime]) (1.13.1)\n",
            "Requirement already satisfied: transformers>=4.29 in /usr/local/lib/python3.10/dist-packages (from optimum[onnxruntime]) (4.46.2)\n",
            "Requirement already satisfied: torch>=1.11 in /usr/local/lib/python3.10/dist-packages (from optimum[onnxruntime]) (2.5.1+cu121)\n",
            "Requirement already satisfied: packaging in /usr/local/lib/python3.10/dist-packages (from optimum[onnxruntime]) (24.2)\n",
            "Requirement already satisfied: numpy in /usr/local/lib/python3.10/dist-packages (from optimum[onnxruntime]) (1.26.4)\n",
            "Requirement already satisfied: huggingface-hub>=0.8.0 in /usr/local/lib/python3.10/dist-packages (from optimum[onnxruntime]) (0.26.2)\n",
            "Requirement already satisfied: datasets in /usr/local/lib/python3.10/dist-packages (from optimum[onnxruntime]) (3.1.0)\n",
            "Requirement already satisfied: onnx in /usr/local/lib/python3.10/dist-packages (from optimum[onnxruntime]) (1.17.0)\n",
            "Requirement already satisfied: onnxruntime>=1.11.0 in /usr/local/lib/python3.10/dist-packages (from optimum[onnxruntime]) (1.20.1)\n",
            "Requirement already satisfied: evaluate in /usr/local/lib/python3.10/dist-packages (from optimum[onnxruntime]) (0.4.3)\n",
            "Requirement already satisfied: protobuf>=3.20.1 in /usr/local/lib/python3.10/dist-packages (from optimum[onnxruntime]) (4.25.5)\n",
            "Requirement already satisfied: filelock in /usr/local/lib/python3.10/dist-packages (from datasets->optimum[onnxruntime]) (3.16.1)\n",
            "Requirement already satisfied: pyarrow>=15.0.0 in /usr/local/lib/python3.10/dist-packages (from datasets->optimum[onnxruntime]) (17.0.0)\n",
            "Requirement already satisfied: dill<0.3.9,>=0.3.0 in /usr/local/lib/python3.10/dist-packages (from datasets->optimum[onnxruntime]) (0.3.8)\n",
            "Requirement already satisfied: pandas in /usr/local/lib/python3.10/dist-packages (from datasets->optimum[onnxruntime]) (2.2.2)\n",
            "Requirement already satisfied: requests>=2.32.2 in /usr/local/lib/python3.10/dist-packages (from datasets->optimum[onnxruntime]) (2.32.3)\n",
            "Requirement already satisfied: tqdm>=4.66.3 in /usr/local/lib/python3.10/dist-packages (from datasets->optimum[onnxruntime]) (4.66.6)\n",
            "Requirement already satisfied: xxhash in /usr/local/lib/python3.10/dist-packages (from datasets->optimum[onnxruntime]) (3.5.0)\n",
            "Requirement already satisfied: multiprocess<0.70.17 in /usr/local/lib/python3.10/dist-packages (from datasets->optimum[onnxruntime]) (0.70.16)\n",
            "Requirement already satisfied: fsspec<=2024.9.0,>=2023.1.0 in /usr/local/lib/python3.10/dist-packages (from fsspec[http]<=2024.9.0,>=2023.1.0->datasets->optimum[onnxruntime]) (2024.9.0)\n",
            "Requirement already satisfied: aiohttp in /usr/local/lib/python3.10/dist-packages (from datasets->optimum[onnxruntime]) (3.11.2)\n",
            "Requirement already satisfied: pyyaml>=5.1 in /usr/local/lib/python3.10/dist-packages (from datasets->optimum[onnxruntime]) (6.0.2)\n",
            "Requirement already satisfied: typing-extensions>=3.7.4.3 in /usr/local/lib/python3.10/dist-packages (from huggingface-hub>=0.8.0->optimum[onnxruntime]) (4.12.2)\n",
            "Requirement already satisfied: flatbuffers in /usr/local/lib/python3.10/dist-packages (from onnxruntime>=1.11.0->optimum[onnxruntime]) (24.3.25)\n",
            "Requirement already satisfied: networkx in /usr/local/lib/python3.10/dist-packages (from torch>=1.11->optimum[onnxruntime]) (3.4.2)\n",
            "Requirement already satisfied: jinja2 in /usr/local/lib/python3.10/dist-packages (from torch>=1.11->optimum[onnxruntime]) (3.1.4)\n",
            "Requirement already satisfied: mpmath<1.4,>=1.1.0 in /usr/local/lib/python3.10/dist-packages (from sympy->optimum[onnxruntime]) (1.3.0)\n",
            "Requirement already satisfied: regex!=2019.12.17 in /usr/local/lib/python3.10/dist-packages (from transformers>=4.29->optimum[onnxruntime]) (2024.9.11)\n",
            "Requirement already satisfied: safetensors>=0.4.1 in /usr/local/lib/python3.10/dist-packages (from transformers>=4.29->optimum[onnxruntime]) (0.4.5)\n",
            "Requirement already satisfied: tokenizers<0.21,>=0.20 in /usr/local/lib/python3.10/dist-packages (from transformers>=4.29->optimum[onnxruntime]) (0.20.3)\n",
            "Requirement already satisfied: humanfriendly>=9.1 in /usr/local/lib/python3.10/dist-packages (from coloredlogs->optimum[onnxruntime]) (10.0)\n",
            "Requirement already satisfied: aiohappyeyeballs>=2.3.0 in /usr/local/lib/python3.10/dist-packages (from aiohttp->datasets->optimum[onnxruntime]) (2.4.3)\n",
            "Requirement already satisfied: aiosignal>=1.1.2 in /usr/local/lib/python3.10/dist-packages (from aiohttp->datasets->optimum[onnxruntime]) (1.3.1)\n",
            "Requirement already satisfied: attrs>=17.3.0 in /usr/local/lib/python3.10/dist-packages (from aiohttp->datasets->optimum[onnxruntime]) (24.2.0)\n",
            "Requirement already satisfied: frozenlist>=1.1.1 in /usr/local/lib/python3.10/dist-packages (from aiohttp->datasets->optimum[onnxruntime]) (1.5.0)\n",
            "Requirement already satisfied: multidict<7.0,>=4.5 in /usr/local/lib/python3.10/dist-packages (from aiohttp->datasets->optimum[onnxruntime]) (6.1.0)\n",
            "Requirement already satisfied: propcache>=0.2.0 in /usr/local/lib/python3.10/dist-packages (from aiohttp->datasets->optimum[onnxruntime]) (0.2.0)\n",
            "Requirement already satisfied: yarl<2.0,>=1.17.0 in /usr/local/lib/python3.10/dist-packages (from aiohttp->datasets->optimum[onnxruntime]) (1.17.2)\n",
            "Requirement already satisfied: async-timeout<6.0,>=4.0 in /usr/local/lib/python3.10/dist-packages (from aiohttp->datasets->optimum[onnxruntime]) (4.0.3)\n",
            "Requirement already satisfied: charset-normalizer<4,>=2 in /usr/local/lib/python3.10/dist-packages (from requests>=2.32.2->datasets->optimum[onnxruntime]) (3.4.0)\n",
            "Requirement already satisfied: idna<4,>=2.5 in /usr/local/lib/python3.10/dist-packages (from requests>=2.32.2->datasets->optimum[onnxruntime]) (3.10)\n",
            "Requirement already satisfied: urllib3<3,>=1.21.1 in /usr/local/lib/python3.10/dist-packages (from requests>=2.32.2->datasets->optimum[onnxruntime]) (2.2.3)\n",
            "Requirement already satisfied: certifi>=2017.4.17 in /usr/local/lib/python3.10/dist-packages (from requests>=2.32.2->datasets->optimum[onnxruntime]) (2024.8.30)\n",
            "Requirement already satisfied: MarkupSafe>=2.0 in /usr/local/lib/python3.10/dist-packages (from jinja2->torch>=1.11->optimum[onnxruntime]) (3.0.2)\n",
            "Requirement already satisfied: python-dateutil>=2.8.2 in /usr/local/lib/python3.10/dist-packages (from pandas->datasets->optimum[onnxruntime]) (2.8.2)\n",
            "Requirement already satisfied: pytz>=2020.1 in /usr/local/lib/python3.10/dist-packages (from pandas->datasets->optimum[onnxruntime]) (2024.2)\n",
            "Requirement already satisfied: tzdata>=2022.7 in /usr/local/lib/python3.10/dist-packages (from pandas->datasets->optimum[onnxruntime]) (2024.2)\n",
            "Requirement already satisfied: six>=1.5 in /usr/local/lib/python3.10/dist-packages (from python-dateutil>=2.8.2->pandas->datasets->optimum[onnxruntime]) (1.16.0)\n"
          ]
        }
      ]
    },
    {
      "cell_type": "code",
      "source": [
        "import onnxruntime as rt\n",
        "import onnx"
      ],
      "metadata": {
        "id": "3-74FgjHsGoZ"
      },
      "execution_count": 32,
      "outputs": []
    },
    {
      "cell_type": "code",
      "source": [
        "import torch\n",
        "from transformers import AutoModelForSequenceClassification, AutoTokenizer\n",
        "\n",
        "# Load your trained model and tokenizer\n",
        "model_path = \"./fine_tuned_model\"\n",
        "model = AutoModelForSequenceClassification.from_pretrained(model_path)\n",
        "tokenizer = AutoTokenizer.from_pretrained(model_path)\n",
        "\n",
        "# Define dummy input for the model, include special tokens and attention mask\n",
        "text = \"This is a test sentence.\"  # Example text\n",
        "inputs = tokenizer(text, return_tensors=\"pt\")\n",
        "\n",
        "# Export to ONNX\n",
        "onnx_path = \"./fine_tuned_model/onnx_model/model.onnx\"\n",
        "torch.onnx.export(\n",
        "    model,                       # The trained model\n",
        "    inputs.data,                  # Provide the tokenized input as a dictionary\n",
        "    onnx_path,                   # Path where ONNX model will be saved\n",
        "    input_names=[\"input_ids\", \"attention_mask\"],   # Name of input layers\n",
        "    output_names=[\"logits\"],     # Name of output layers\n",
        "    dynamic_axes={\"input_ids\": {0: \"batch_size\", 1: \"sequence_length\"},\n",
        "                  \"attention_mask\": {0: \"batch_size\", 1: \"sequence_length\"},\n",
        "                  \"logits\": {0: \"batch_size\"}},  # Dynamic axes\n",
        "    opset_version=14             # Changed opset version to 14\n",
        ")\n",
        "\n",
        "# Save the tokenizer\n",
        "tokenizer.save_pretrained(\"./fine_tuned_model/onnx_model\")"
      ],
      "metadata": {
        "colab": {
          "base_uri": "https://localhost:8080/"
        },
        "id": "xvGgTFcrsMNe",
        "outputId": "a63c87ba-7ea1-43a9-af08-447533b169eb"
      },
      "execution_count": 34,
      "outputs": [
        {
          "output_type": "execute_result",
          "data": {
            "text/plain": [
              "('./fine_tuned_model/onnx_model/tokenizer_config.json',\n",
              " './fine_tuned_model/onnx_model/special_tokens_map.json',\n",
              " './fine_tuned_model/onnx_model/vocab.txt',\n",
              " './fine_tuned_model/onnx_model/added_tokens.json',\n",
              " './fine_tuned_model/onnx_model/tokenizer.json')"
            ]
          },
          "metadata": {},
          "execution_count": 34
        }
      ]
    },
    {
      "cell_type": "code",
      "source": [
        "from onnxruntime.quantization import quantize_dynamic, QuantType\n",
        "\n",
        "# Quantize ONNX model\n",
        "onnx_model_path = \"./fine_tuned_model/onnx_model/model.onnx\"\n",
        "quantized_model_path = \"./fine_tuned_model/onnx_model/model-quantized.onnx\"\n",
        "\n",
        "quantize_dynamic(\n",
        "    model_input=onnx_model_path,\n",
        "    model_output=quantized_model_path,\n",
        "    weight_type=QuantType.QUInt8  # Use INT8 quantization\n",
        ")"
      ],
      "metadata": {
        "colab": {
          "base_uri": "https://localhost:8080/"
        },
        "id": "_LyKwBQPsTib",
        "outputId": "3828d0f7-d70e-4f29-ac77-021648ed888f"
      },
      "execution_count": 35,
      "outputs": [
        {
          "output_type": "stream",
          "name": "stderr",
          "text": [
            "WARNING:root:Please consider to run pre-processing before quantization. Refer to example: https://github.com/microsoft/onnxruntime-inference-examples/blob/main/quantization/image_classification/cpu/ReadMe.md \n"
          ]
        }
      ]
    },
    {
      "cell_type": "code",
      "source": [
        "from transformers import AutoTokenizer\n",
        "\n",
        "# Load tokenizer\n",
        "tokenizer = AutoTokenizer.from_pretrained(\"./fine_tuned_model\")\n",
        "\n",
        "# Save as tokenizer.json\n",
        "tokenizer.save_pretrained(\"./fine_tuned_model\", legacy_format=False)"
      ],
      "metadata": {
        "colab": {
          "base_uri": "https://localhost:8080/"
        },
        "id": "mG_CCvI37xJw",
        "outputId": "bd4a2b55-31e9-4415-8953-a02328a23f58"
      },
      "execution_count": 36,
      "outputs": [
        {
          "output_type": "execute_result",
          "data": {
            "text/plain": [
              "('./fine_tuned_model/tokenizer_config.json',\n",
              " './fine_tuned_model/special_tokens_map.json',\n",
              " './fine_tuned_model/tokenizer.json')"
            ]
          },
          "metadata": {},
          "execution_count": 36
        }
      ]
    },
    {
      "cell_type": "markdown",
      "source": [
        "#Test the model"
      ],
      "metadata": {
        "id": "vWgo40X2G2UG"
      }
    },
    {
      "cell_type": "code",
      "source": [
        "from transformers import AutoModelForSequenceClassification, AutoTokenizer\n",
        "\n",
        "# Load the model and tokenizer\n",
        "model = AutoModelForSequenceClassification.from_pretrained(\"./fine_tuned_model\")\n",
        "tokenizer = AutoTokenizer.from_pretrained(\"./fine_tuned_model\")\n",
        "\n",
        "# Example manual input\n",
        "input_text = \"I am very sad.\"\n",
        "\n",
        "# Tokenize the input text\n",
        "inputs = tokenizer(input_text, return_tensors=\"pt\")\n",
        "\n",
        "# Get model predictions\n",
        "with torch.no_grad():\n",
        "    logits = model(**inputs).logits\n",
        "\n",
        "# Get predicted class by taking argmax of logits\n",
        "predicted_class = logits.argmax(dim=-1).item()  # Convert to a Python scalar\n",
        "\n",
        "# Get the predicted label\n",
        "# Reversing the label_mapping to create a mapping from integers to labels\n",
        "inverted_label_mapping = {v: k for k, v in label_mapping.items()}\n",
        "print(\"predicted class: \", predicted_class)\n",
        "predicted_label = inverted_label_mapping.get(predicted_class, \"Unknown\")\n",
        "print(f\"Predicted label: {predicted_label}\")"
      ],
      "metadata": {
        "colab": {
          "base_uri": "https://localhost:8080/"
        },
        "id": "BxghJ_R4bPQf",
        "outputId": "cf90c49a-a957-499d-aa18-249255e63940"
      },
      "execution_count": 37,
      "outputs": [
        {
          "output_type": "stream",
          "name": "stdout",
          "text": [
            "predicted class:  2\n",
            "Predicted label: Sarcastic\n"
          ]
        }
      ]
    },
    {
      "cell_type": "code",
      "source": [
        "print(label_mapping)"
      ],
      "metadata": {
        "id": "Z76Pa_77n5dD",
        "colab": {
          "base_uri": "https://localhost:8080/"
        },
        "outputId": "654a529d-9f88-4b83-b9e9-4277790afdf9"
      },
      "execution_count": 38,
      "outputs": [
        {
          "output_type": "stream",
          "name": "stdout",
          "text": [
            "defaultdict(<function <lambda> at 0x7d690c76b2e0>, {'Negative': 0, 'worry': 1, 'Sarcastic': 2, 'Neutral': 3, 'fear': 4, 'joy': 5, 'positive': 6, 'pleasure': 7, 'appreciation': 8, 'negative': 9, 'disgust': 10, 'Serious': 11, 'Positive': 12, 'empathy': 13, 'love': 14, 'annoyance': 15, 'awe': 16, 'disappointment': 17, 'sadness': 18, 'hope': 19, 'surprise': 20, 'pride': 21, 'stress': 22, 'serenity': 23, 'happiness': 24, 'nostalgia': 25, 'concern': 26, 'rejection': 27, 'heat': 28, 'relief': 29, 'comfort': 30, 'anticipation': 31, 'elation': 32, 'neutral': 33})\n"
          ]
        }
      ]
    }
  ],
  "metadata": {
    "colab": {
      "provenance": [],
      "include_colab_link": true
    },
    "kernelspec": {
      "display_name": "Python 3",
      "name": "python3"
    },
    "language_info": {
      "name": "python"
    },
    "widgets": {
      "application/vnd.jupyter.widget-state+json": {
        "037e37e2a44b48a1a6630c672579569a": {
          "model_module": "@jupyter-widgets/controls",
          "model_name": "HBoxModel",
          "model_module_version": "1.5.0",
          "state": {
            "_dom_classes": [],
            "_model_module": "@jupyter-widgets/controls",
            "_model_module_version": "1.5.0",
            "_model_name": "HBoxModel",
            "_view_count": null,
            "_view_module": "@jupyter-widgets/controls",
            "_view_module_version": "1.5.0",
            "_view_name": "HBoxView",
            "box_style": "",
            "children": [
              "IPY_MODEL_97af5484c58c41dfa6c456fbefdd3755",
              "IPY_MODEL_7ff22b8dc6e2497eb3102e28ccb1546e",
              "IPY_MODEL_8fc4cd46969744bc9ebbef475747e476"
            ],
            "layout": "IPY_MODEL_7d353e1741da4fc3bb2c0e9b20fe1c79"
          }
        },
        "97af5484c58c41dfa6c456fbefdd3755": {
          "model_module": "@jupyter-widgets/controls",
          "model_name": "HTMLModel",
          "model_module_version": "1.5.0",
          "state": {
            "_dom_classes": [],
            "_model_module": "@jupyter-widgets/controls",
            "_model_module_version": "1.5.0",
            "_model_name": "HTMLModel",
            "_view_count": null,
            "_view_module": "@jupyter-widgets/controls",
            "_view_module_version": "1.5.0",
            "_view_name": "HTMLView",
            "description": "",
            "description_tooltip": null,
            "layout": "IPY_MODEL_092f963453cc4b558b0ca67eb052d636",
            "placeholder": "​",
            "style": "IPY_MODEL_bcb6d1a05dfb4bdd8da786b210fe07b2",
            "value": "Map: 100%"
          }
        },
        "7ff22b8dc6e2497eb3102e28ccb1546e": {
          "model_module": "@jupyter-widgets/controls",
          "model_name": "FloatProgressModel",
          "model_module_version": "1.5.0",
          "state": {
            "_dom_classes": [],
            "_model_module": "@jupyter-widgets/controls",
            "_model_module_version": "1.5.0",
            "_model_name": "FloatProgressModel",
            "_view_count": null,
            "_view_module": "@jupyter-widgets/controls",
            "_view_module_version": "1.5.0",
            "_view_name": "ProgressView",
            "bar_style": "success",
            "description": "",
            "description_tooltip": null,
            "layout": "IPY_MODEL_3020120cbc8c414389aa316012f9930b",
            "max": 99,
            "min": 0,
            "orientation": "horizontal",
            "style": "IPY_MODEL_a9a5d97063ac443ba871703b40e49998",
            "value": 99
          }
        },
        "8fc4cd46969744bc9ebbef475747e476": {
          "model_module": "@jupyter-widgets/controls",
          "model_name": "HTMLModel",
          "model_module_version": "1.5.0",
          "state": {
            "_dom_classes": [],
            "_model_module": "@jupyter-widgets/controls",
            "_model_module_version": "1.5.0",
            "_model_name": "HTMLModel",
            "_view_count": null,
            "_view_module": "@jupyter-widgets/controls",
            "_view_module_version": "1.5.0",
            "_view_name": "HTMLView",
            "description": "",
            "description_tooltip": null,
            "layout": "IPY_MODEL_efb9b037257d4b52a4f292221da1bc17",
            "placeholder": "​",
            "style": "IPY_MODEL_701f135d90c349aa81cd010ed6070266",
            "value": " 99/99 [00:00&lt;00:00, 1208.21 examples/s]"
          }
        },
        "7d353e1741da4fc3bb2c0e9b20fe1c79": {
          "model_module": "@jupyter-widgets/base",
          "model_name": "LayoutModel",
          "model_module_version": "1.2.0",
          "state": {
            "_model_module": "@jupyter-widgets/base",
            "_model_module_version": "1.2.0",
            "_model_name": "LayoutModel",
            "_view_count": null,
            "_view_module": "@jupyter-widgets/base",
            "_view_module_version": "1.2.0",
            "_view_name": "LayoutView",
            "align_content": null,
            "align_items": null,
            "align_self": null,
            "border": null,
            "bottom": null,
            "display": null,
            "flex": null,
            "flex_flow": null,
            "grid_area": null,
            "grid_auto_columns": null,
            "grid_auto_flow": null,
            "grid_auto_rows": null,
            "grid_column": null,
            "grid_gap": null,
            "grid_row": null,
            "grid_template_areas": null,
            "grid_template_columns": null,
            "grid_template_rows": null,
            "height": null,
            "justify_content": null,
            "justify_items": null,
            "left": null,
            "margin": null,
            "max_height": null,
            "max_width": null,
            "min_height": null,
            "min_width": null,
            "object_fit": null,
            "object_position": null,
            "order": null,
            "overflow": null,
            "overflow_x": null,
            "overflow_y": null,
            "padding": null,
            "right": null,
            "top": null,
            "visibility": null,
            "width": null
          }
        },
        "092f963453cc4b558b0ca67eb052d636": {
          "model_module": "@jupyter-widgets/base",
          "model_name": "LayoutModel",
          "model_module_version": "1.2.0",
          "state": {
            "_model_module": "@jupyter-widgets/base",
            "_model_module_version": "1.2.0",
            "_model_name": "LayoutModel",
            "_view_count": null,
            "_view_module": "@jupyter-widgets/base",
            "_view_module_version": "1.2.0",
            "_view_name": "LayoutView",
            "align_content": null,
            "align_items": null,
            "align_self": null,
            "border": null,
            "bottom": null,
            "display": null,
            "flex": null,
            "flex_flow": null,
            "grid_area": null,
            "grid_auto_columns": null,
            "grid_auto_flow": null,
            "grid_auto_rows": null,
            "grid_column": null,
            "grid_gap": null,
            "grid_row": null,
            "grid_template_areas": null,
            "grid_template_columns": null,
            "grid_template_rows": null,
            "height": null,
            "justify_content": null,
            "justify_items": null,
            "left": null,
            "margin": null,
            "max_height": null,
            "max_width": null,
            "min_height": null,
            "min_width": null,
            "object_fit": null,
            "object_position": null,
            "order": null,
            "overflow": null,
            "overflow_x": null,
            "overflow_y": null,
            "padding": null,
            "right": null,
            "top": null,
            "visibility": null,
            "width": null
          }
        },
        "bcb6d1a05dfb4bdd8da786b210fe07b2": {
          "model_module": "@jupyter-widgets/controls",
          "model_name": "DescriptionStyleModel",
          "model_module_version": "1.5.0",
          "state": {
            "_model_module": "@jupyter-widgets/controls",
            "_model_module_version": "1.5.0",
            "_model_name": "DescriptionStyleModel",
            "_view_count": null,
            "_view_module": "@jupyter-widgets/base",
            "_view_module_version": "1.2.0",
            "_view_name": "StyleView",
            "description_width": ""
          }
        },
        "3020120cbc8c414389aa316012f9930b": {
          "model_module": "@jupyter-widgets/base",
          "model_name": "LayoutModel",
          "model_module_version": "1.2.0",
          "state": {
            "_model_module": "@jupyter-widgets/base",
            "_model_module_version": "1.2.0",
            "_model_name": "LayoutModel",
            "_view_count": null,
            "_view_module": "@jupyter-widgets/base",
            "_view_module_version": "1.2.0",
            "_view_name": "LayoutView",
            "align_content": null,
            "align_items": null,
            "align_self": null,
            "border": null,
            "bottom": null,
            "display": null,
            "flex": null,
            "flex_flow": null,
            "grid_area": null,
            "grid_auto_columns": null,
            "grid_auto_flow": null,
            "grid_auto_rows": null,
            "grid_column": null,
            "grid_gap": null,
            "grid_row": null,
            "grid_template_areas": null,
            "grid_template_columns": null,
            "grid_template_rows": null,
            "height": null,
            "justify_content": null,
            "justify_items": null,
            "left": null,
            "margin": null,
            "max_height": null,
            "max_width": null,
            "min_height": null,
            "min_width": null,
            "object_fit": null,
            "object_position": null,
            "order": null,
            "overflow": null,
            "overflow_x": null,
            "overflow_y": null,
            "padding": null,
            "right": null,
            "top": null,
            "visibility": null,
            "width": null
          }
        },
        "a9a5d97063ac443ba871703b40e49998": {
          "model_module": "@jupyter-widgets/controls",
          "model_name": "ProgressStyleModel",
          "model_module_version": "1.5.0",
          "state": {
            "_model_module": "@jupyter-widgets/controls",
            "_model_module_version": "1.5.0",
            "_model_name": "ProgressStyleModel",
            "_view_count": null,
            "_view_module": "@jupyter-widgets/base",
            "_view_module_version": "1.2.0",
            "_view_name": "StyleView",
            "bar_color": null,
            "description_width": ""
          }
        },
        "efb9b037257d4b52a4f292221da1bc17": {
          "model_module": "@jupyter-widgets/base",
          "model_name": "LayoutModel",
          "model_module_version": "1.2.0",
          "state": {
            "_model_module": "@jupyter-widgets/base",
            "_model_module_version": "1.2.0",
            "_model_name": "LayoutModel",
            "_view_count": null,
            "_view_module": "@jupyter-widgets/base",
            "_view_module_version": "1.2.0",
            "_view_name": "LayoutView",
            "align_content": null,
            "align_items": null,
            "align_self": null,
            "border": null,
            "bottom": null,
            "display": null,
            "flex": null,
            "flex_flow": null,
            "grid_area": null,
            "grid_auto_columns": null,
            "grid_auto_flow": null,
            "grid_auto_rows": null,
            "grid_column": null,
            "grid_gap": null,
            "grid_row": null,
            "grid_template_areas": null,
            "grid_template_columns": null,
            "grid_template_rows": null,
            "height": null,
            "justify_content": null,
            "justify_items": null,
            "left": null,
            "margin": null,
            "max_height": null,
            "max_width": null,
            "min_height": null,
            "min_width": null,
            "object_fit": null,
            "object_position": null,
            "order": null,
            "overflow": null,
            "overflow_x": null,
            "overflow_y": null,
            "padding": null,
            "right": null,
            "top": null,
            "visibility": null,
            "width": null
          }
        },
        "701f135d90c349aa81cd010ed6070266": {
          "model_module": "@jupyter-widgets/controls",
          "model_name": "DescriptionStyleModel",
          "model_module_version": "1.5.0",
          "state": {
            "_model_module": "@jupyter-widgets/controls",
            "_model_module_version": "1.5.0",
            "_model_name": "DescriptionStyleModel",
            "_view_count": null,
            "_view_module": "@jupyter-widgets/base",
            "_view_module_version": "1.2.0",
            "_view_name": "StyleView",
            "description_width": ""
          }
        },
        "c58eeada66eb449f825e36c35f147c88": {
          "model_module": "@jupyter-widgets/controls",
          "model_name": "HBoxModel",
          "model_module_version": "1.5.0",
          "state": {
            "_dom_classes": [],
            "_model_module": "@jupyter-widgets/controls",
            "_model_module_version": "1.5.0",
            "_model_name": "HBoxModel",
            "_view_count": null,
            "_view_module": "@jupyter-widgets/controls",
            "_view_module_version": "1.5.0",
            "_view_name": "HBoxView",
            "box_style": "",
            "children": [
              "IPY_MODEL_2f660f56583a41cda13545080a0052aa",
              "IPY_MODEL_145ab20e477f4772ab05c6b866e9186d",
              "IPY_MODEL_084f17aeb4b3468a80bf02a72606704b"
            ],
            "layout": "IPY_MODEL_615b822c9f984eeb926a7f634f4b4fd3"
          }
        },
        "2f660f56583a41cda13545080a0052aa": {
          "model_module": "@jupyter-widgets/controls",
          "model_name": "HTMLModel",
          "model_module_version": "1.5.0",
          "state": {
            "_dom_classes": [],
            "_model_module": "@jupyter-widgets/controls",
            "_model_module_version": "1.5.0",
            "_model_name": "HTMLModel",
            "_view_count": null,
            "_view_module": "@jupyter-widgets/controls",
            "_view_module_version": "1.5.0",
            "_view_name": "HTMLView",
            "description": "",
            "description_tooltip": null,
            "layout": "IPY_MODEL_b45ca1c45a1048de959de74dca1ef845",
            "placeholder": "​",
            "style": "IPY_MODEL_d09d53c5ab6c4378809bc39bbcb34ecc",
            "value": "Map: 100%"
          }
        },
        "145ab20e477f4772ab05c6b866e9186d": {
          "model_module": "@jupyter-widgets/controls",
          "model_name": "FloatProgressModel",
          "model_module_version": "1.5.0",
          "state": {
            "_dom_classes": [],
            "_model_module": "@jupyter-widgets/controls",
            "_model_module_version": "1.5.0",
            "_model_name": "FloatProgressModel",
            "_view_count": null,
            "_view_module": "@jupyter-widgets/controls",
            "_view_module_version": "1.5.0",
            "_view_name": "ProgressView",
            "bar_style": "success",
            "description": "",
            "description_tooltip": null,
            "layout": "IPY_MODEL_ca8b2256f0cd48b8a32f565f67819858",
            "max": 392,
            "min": 0,
            "orientation": "horizontal",
            "style": "IPY_MODEL_5e625f5fb39a4543ba56253f183612a3",
            "value": 392
          }
        },
        "084f17aeb4b3468a80bf02a72606704b": {
          "model_module": "@jupyter-widgets/controls",
          "model_name": "HTMLModel",
          "model_module_version": "1.5.0",
          "state": {
            "_dom_classes": [],
            "_model_module": "@jupyter-widgets/controls",
            "_model_module_version": "1.5.0",
            "_model_name": "HTMLModel",
            "_view_count": null,
            "_view_module": "@jupyter-widgets/controls",
            "_view_module_version": "1.5.0",
            "_view_name": "HTMLView",
            "description": "",
            "description_tooltip": null,
            "layout": "IPY_MODEL_5eedc878339343c39c299f1d69b4378c",
            "placeholder": "​",
            "style": "IPY_MODEL_24a4493d2ffc4957a48414ce870ed8ce",
            "value": " 392/392 [00:00&lt;00:00, 1277.63 examples/s]"
          }
        },
        "615b822c9f984eeb926a7f634f4b4fd3": {
          "model_module": "@jupyter-widgets/base",
          "model_name": "LayoutModel",
          "model_module_version": "1.2.0",
          "state": {
            "_model_module": "@jupyter-widgets/base",
            "_model_module_version": "1.2.0",
            "_model_name": "LayoutModel",
            "_view_count": null,
            "_view_module": "@jupyter-widgets/base",
            "_view_module_version": "1.2.0",
            "_view_name": "LayoutView",
            "align_content": null,
            "align_items": null,
            "align_self": null,
            "border": null,
            "bottom": null,
            "display": null,
            "flex": null,
            "flex_flow": null,
            "grid_area": null,
            "grid_auto_columns": null,
            "grid_auto_flow": null,
            "grid_auto_rows": null,
            "grid_column": null,
            "grid_gap": null,
            "grid_row": null,
            "grid_template_areas": null,
            "grid_template_columns": null,
            "grid_template_rows": null,
            "height": null,
            "justify_content": null,
            "justify_items": null,
            "left": null,
            "margin": null,
            "max_height": null,
            "max_width": null,
            "min_height": null,
            "min_width": null,
            "object_fit": null,
            "object_position": null,
            "order": null,
            "overflow": null,
            "overflow_x": null,
            "overflow_y": null,
            "padding": null,
            "right": null,
            "top": null,
            "visibility": null,
            "width": null
          }
        },
        "b45ca1c45a1048de959de74dca1ef845": {
          "model_module": "@jupyter-widgets/base",
          "model_name": "LayoutModel",
          "model_module_version": "1.2.0",
          "state": {
            "_model_module": "@jupyter-widgets/base",
            "_model_module_version": "1.2.0",
            "_model_name": "LayoutModel",
            "_view_count": null,
            "_view_module": "@jupyter-widgets/base",
            "_view_module_version": "1.2.0",
            "_view_name": "LayoutView",
            "align_content": null,
            "align_items": null,
            "align_self": null,
            "border": null,
            "bottom": null,
            "display": null,
            "flex": null,
            "flex_flow": null,
            "grid_area": null,
            "grid_auto_columns": null,
            "grid_auto_flow": null,
            "grid_auto_rows": null,
            "grid_column": null,
            "grid_gap": null,
            "grid_row": null,
            "grid_template_areas": null,
            "grid_template_columns": null,
            "grid_template_rows": null,
            "height": null,
            "justify_content": null,
            "justify_items": null,
            "left": null,
            "margin": null,
            "max_height": null,
            "max_width": null,
            "min_height": null,
            "min_width": null,
            "object_fit": null,
            "object_position": null,
            "order": null,
            "overflow": null,
            "overflow_x": null,
            "overflow_y": null,
            "padding": null,
            "right": null,
            "top": null,
            "visibility": null,
            "width": null
          }
        },
        "d09d53c5ab6c4378809bc39bbcb34ecc": {
          "model_module": "@jupyter-widgets/controls",
          "model_name": "DescriptionStyleModel",
          "model_module_version": "1.5.0",
          "state": {
            "_model_module": "@jupyter-widgets/controls",
            "_model_module_version": "1.5.0",
            "_model_name": "DescriptionStyleModel",
            "_view_count": null,
            "_view_module": "@jupyter-widgets/base",
            "_view_module_version": "1.2.0",
            "_view_name": "StyleView",
            "description_width": ""
          }
        },
        "ca8b2256f0cd48b8a32f565f67819858": {
          "model_module": "@jupyter-widgets/base",
          "model_name": "LayoutModel",
          "model_module_version": "1.2.0",
          "state": {
            "_model_module": "@jupyter-widgets/base",
            "_model_module_version": "1.2.0",
            "_model_name": "LayoutModel",
            "_view_count": null,
            "_view_module": "@jupyter-widgets/base",
            "_view_module_version": "1.2.0",
            "_view_name": "LayoutView",
            "align_content": null,
            "align_items": null,
            "align_self": null,
            "border": null,
            "bottom": null,
            "display": null,
            "flex": null,
            "flex_flow": null,
            "grid_area": null,
            "grid_auto_columns": null,
            "grid_auto_flow": null,
            "grid_auto_rows": null,
            "grid_column": null,
            "grid_gap": null,
            "grid_row": null,
            "grid_template_areas": null,
            "grid_template_columns": null,
            "grid_template_rows": null,
            "height": null,
            "justify_content": null,
            "justify_items": null,
            "left": null,
            "margin": null,
            "max_height": null,
            "max_width": null,
            "min_height": null,
            "min_width": null,
            "object_fit": null,
            "object_position": null,
            "order": null,
            "overflow": null,
            "overflow_x": null,
            "overflow_y": null,
            "padding": null,
            "right": null,
            "top": null,
            "visibility": null,
            "width": null
          }
        },
        "5e625f5fb39a4543ba56253f183612a3": {
          "model_module": "@jupyter-widgets/controls",
          "model_name": "ProgressStyleModel",
          "model_module_version": "1.5.0",
          "state": {
            "_model_module": "@jupyter-widgets/controls",
            "_model_module_version": "1.5.0",
            "_model_name": "ProgressStyleModel",
            "_view_count": null,
            "_view_module": "@jupyter-widgets/base",
            "_view_module_version": "1.2.0",
            "_view_name": "StyleView",
            "bar_color": null,
            "description_width": ""
          }
        },
        "5eedc878339343c39c299f1d69b4378c": {
          "model_module": "@jupyter-widgets/base",
          "model_name": "LayoutModel",
          "model_module_version": "1.2.0",
          "state": {
            "_model_module": "@jupyter-widgets/base",
            "_model_module_version": "1.2.0",
            "_model_name": "LayoutModel",
            "_view_count": null,
            "_view_module": "@jupyter-widgets/base",
            "_view_module_version": "1.2.0",
            "_view_name": "LayoutView",
            "align_content": null,
            "align_items": null,
            "align_self": null,
            "border": null,
            "bottom": null,
            "display": null,
            "flex": null,
            "flex_flow": null,
            "grid_area": null,
            "grid_auto_columns": null,
            "grid_auto_flow": null,
            "grid_auto_rows": null,
            "grid_column": null,
            "grid_gap": null,
            "grid_row": null,
            "grid_template_areas": null,
            "grid_template_columns": null,
            "grid_template_rows": null,
            "height": null,
            "justify_content": null,
            "justify_items": null,
            "left": null,
            "margin": null,
            "max_height": null,
            "max_width": null,
            "min_height": null,
            "min_width": null,
            "object_fit": null,
            "object_position": null,
            "order": null,
            "overflow": null,
            "overflow_x": null,
            "overflow_y": null,
            "padding": null,
            "right": null,
            "top": null,
            "visibility": null,
            "width": null
          }
        },
        "24a4493d2ffc4957a48414ce870ed8ce": {
          "model_module": "@jupyter-widgets/controls",
          "model_name": "DescriptionStyleModel",
          "model_module_version": "1.5.0",
          "state": {
            "_model_module": "@jupyter-widgets/controls",
            "_model_module_version": "1.5.0",
            "_model_name": "DescriptionStyleModel",
            "_view_count": null,
            "_view_module": "@jupyter-widgets/base",
            "_view_module_version": "1.2.0",
            "_view_name": "StyleView",
            "description_width": ""
          }
        },
        "00e9486c4c8d4f029e816929ceebce4c": {
          "model_module": "@jupyter-widgets/controls",
          "model_name": "HBoxModel",
          "model_module_version": "1.5.0",
          "state": {
            "_dom_classes": [],
            "_model_module": "@jupyter-widgets/controls",
            "_model_module_version": "1.5.0",
            "_model_name": "HBoxModel",
            "_view_count": null,
            "_view_module": "@jupyter-widgets/controls",
            "_view_module_version": "1.5.0",
            "_view_name": "HBoxView",
            "box_style": "",
            "children": [
              "IPY_MODEL_63557e8bcbb442e192ed318edf091198",
              "IPY_MODEL_c7880d24636b4a63b44180a1adaef0cd",
              "IPY_MODEL_20c7b420c4894fed9dba1c1ea12e6310"
            ],
            "layout": "IPY_MODEL_c5c46d8cc9a5483a9710f5e664b5117b"
          }
        },
        "63557e8bcbb442e192ed318edf091198": {
          "model_module": "@jupyter-widgets/controls",
          "model_name": "HTMLModel",
          "model_module_version": "1.5.0",
          "state": {
            "_dom_classes": [],
            "_model_module": "@jupyter-widgets/controls",
            "_model_module_version": "1.5.0",
            "_model_name": "HTMLModel",
            "_view_count": null,
            "_view_module": "@jupyter-widgets/controls",
            "_view_module_version": "1.5.0",
            "_view_name": "HTMLView",
            "description": "",
            "description_tooltip": null,
            "layout": "IPY_MODEL_c192f0edc4f84488ae4c11f6bcc0da7a",
            "placeholder": "​",
            "style": "IPY_MODEL_842512aef7d74f59883c7cb2d4e52597",
            "value": "Map: 100%"
          }
        },
        "c7880d24636b4a63b44180a1adaef0cd": {
          "model_module": "@jupyter-widgets/controls",
          "model_name": "FloatProgressModel",
          "model_module_version": "1.5.0",
          "state": {
            "_dom_classes": [],
            "_model_module": "@jupyter-widgets/controls",
            "_model_module_version": "1.5.0",
            "_model_name": "FloatProgressModel",
            "_view_count": null,
            "_view_module": "@jupyter-widgets/controls",
            "_view_module_version": "1.5.0",
            "_view_name": "ProgressView",
            "bar_style": "success",
            "description": "",
            "description_tooltip": null,
            "layout": "IPY_MODEL_23e3fa9c2d00494d9885a4fb89233987",
            "max": 99,
            "min": 0,
            "orientation": "horizontal",
            "style": "IPY_MODEL_9f864d0ce492447e93575b0f6eaa9515",
            "value": 99
          }
        },
        "20c7b420c4894fed9dba1c1ea12e6310": {
          "model_module": "@jupyter-widgets/controls",
          "model_name": "HTMLModel",
          "model_module_version": "1.5.0",
          "state": {
            "_dom_classes": [],
            "_model_module": "@jupyter-widgets/controls",
            "_model_module_version": "1.5.0",
            "_model_name": "HTMLModel",
            "_view_count": null,
            "_view_module": "@jupyter-widgets/controls",
            "_view_module_version": "1.5.0",
            "_view_name": "HTMLView",
            "description": "",
            "description_tooltip": null,
            "layout": "IPY_MODEL_280b86eb1e7248bbbc9d4949604508f7",
            "placeholder": "​",
            "style": "IPY_MODEL_794a17236fae41bc886d23e91c899f2c",
            "value": " 99/99 [00:00&lt;00:00, 643.35 examples/s]"
          }
        },
        "c5c46d8cc9a5483a9710f5e664b5117b": {
          "model_module": "@jupyter-widgets/base",
          "model_name": "LayoutModel",
          "model_module_version": "1.2.0",
          "state": {
            "_model_module": "@jupyter-widgets/base",
            "_model_module_version": "1.2.0",
            "_model_name": "LayoutModel",
            "_view_count": null,
            "_view_module": "@jupyter-widgets/base",
            "_view_module_version": "1.2.0",
            "_view_name": "LayoutView",
            "align_content": null,
            "align_items": null,
            "align_self": null,
            "border": null,
            "bottom": null,
            "display": null,
            "flex": null,
            "flex_flow": null,
            "grid_area": null,
            "grid_auto_columns": null,
            "grid_auto_flow": null,
            "grid_auto_rows": null,
            "grid_column": null,
            "grid_gap": null,
            "grid_row": null,
            "grid_template_areas": null,
            "grid_template_columns": null,
            "grid_template_rows": null,
            "height": null,
            "justify_content": null,
            "justify_items": null,
            "left": null,
            "margin": null,
            "max_height": null,
            "max_width": null,
            "min_height": null,
            "min_width": null,
            "object_fit": null,
            "object_position": null,
            "order": null,
            "overflow": null,
            "overflow_x": null,
            "overflow_y": null,
            "padding": null,
            "right": null,
            "top": null,
            "visibility": null,
            "width": null
          }
        },
        "c192f0edc4f84488ae4c11f6bcc0da7a": {
          "model_module": "@jupyter-widgets/base",
          "model_name": "LayoutModel",
          "model_module_version": "1.2.0",
          "state": {
            "_model_module": "@jupyter-widgets/base",
            "_model_module_version": "1.2.0",
            "_model_name": "LayoutModel",
            "_view_count": null,
            "_view_module": "@jupyter-widgets/base",
            "_view_module_version": "1.2.0",
            "_view_name": "LayoutView",
            "align_content": null,
            "align_items": null,
            "align_self": null,
            "border": null,
            "bottom": null,
            "display": null,
            "flex": null,
            "flex_flow": null,
            "grid_area": null,
            "grid_auto_columns": null,
            "grid_auto_flow": null,
            "grid_auto_rows": null,
            "grid_column": null,
            "grid_gap": null,
            "grid_row": null,
            "grid_template_areas": null,
            "grid_template_columns": null,
            "grid_template_rows": null,
            "height": null,
            "justify_content": null,
            "justify_items": null,
            "left": null,
            "margin": null,
            "max_height": null,
            "max_width": null,
            "min_height": null,
            "min_width": null,
            "object_fit": null,
            "object_position": null,
            "order": null,
            "overflow": null,
            "overflow_x": null,
            "overflow_y": null,
            "padding": null,
            "right": null,
            "top": null,
            "visibility": null,
            "width": null
          }
        },
        "842512aef7d74f59883c7cb2d4e52597": {
          "model_module": "@jupyter-widgets/controls",
          "model_name": "DescriptionStyleModel",
          "model_module_version": "1.5.0",
          "state": {
            "_model_module": "@jupyter-widgets/controls",
            "_model_module_version": "1.5.0",
            "_model_name": "DescriptionStyleModel",
            "_view_count": null,
            "_view_module": "@jupyter-widgets/base",
            "_view_module_version": "1.2.0",
            "_view_name": "StyleView",
            "description_width": ""
          }
        },
        "23e3fa9c2d00494d9885a4fb89233987": {
          "model_module": "@jupyter-widgets/base",
          "model_name": "LayoutModel",
          "model_module_version": "1.2.0",
          "state": {
            "_model_module": "@jupyter-widgets/base",
            "_model_module_version": "1.2.0",
            "_model_name": "LayoutModel",
            "_view_count": null,
            "_view_module": "@jupyter-widgets/base",
            "_view_module_version": "1.2.0",
            "_view_name": "LayoutView",
            "align_content": null,
            "align_items": null,
            "align_self": null,
            "border": null,
            "bottom": null,
            "display": null,
            "flex": null,
            "flex_flow": null,
            "grid_area": null,
            "grid_auto_columns": null,
            "grid_auto_flow": null,
            "grid_auto_rows": null,
            "grid_column": null,
            "grid_gap": null,
            "grid_row": null,
            "grid_template_areas": null,
            "grid_template_columns": null,
            "grid_template_rows": null,
            "height": null,
            "justify_content": null,
            "justify_items": null,
            "left": null,
            "margin": null,
            "max_height": null,
            "max_width": null,
            "min_height": null,
            "min_width": null,
            "object_fit": null,
            "object_position": null,
            "order": null,
            "overflow": null,
            "overflow_x": null,
            "overflow_y": null,
            "padding": null,
            "right": null,
            "top": null,
            "visibility": null,
            "width": null
          }
        },
        "9f864d0ce492447e93575b0f6eaa9515": {
          "model_module": "@jupyter-widgets/controls",
          "model_name": "ProgressStyleModel",
          "model_module_version": "1.5.0",
          "state": {
            "_model_module": "@jupyter-widgets/controls",
            "_model_module_version": "1.5.0",
            "_model_name": "ProgressStyleModel",
            "_view_count": null,
            "_view_module": "@jupyter-widgets/base",
            "_view_module_version": "1.2.0",
            "_view_name": "StyleView",
            "bar_color": null,
            "description_width": ""
          }
        },
        "280b86eb1e7248bbbc9d4949604508f7": {
          "model_module": "@jupyter-widgets/base",
          "model_name": "LayoutModel",
          "model_module_version": "1.2.0",
          "state": {
            "_model_module": "@jupyter-widgets/base",
            "_model_module_version": "1.2.0",
            "_model_name": "LayoutModel",
            "_view_count": null,
            "_view_module": "@jupyter-widgets/base",
            "_view_module_version": "1.2.0",
            "_view_name": "LayoutView",
            "align_content": null,
            "align_items": null,
            "align_self": null,
            "border": null,
            "bottom": null,
            "display": null,
            "flex": null,
            "flex_flow": null,
            "grid_area": null,
            "grid_auto_columns": null,
            "grid_auto_flow": null,
            "grid_auto_rows": null,
            "grid_column": null,
            "grid_gap": null,
            "grid_row": null,
            "grid_template_areas": null,
            "grid_template_columns": null,
            "grid_template_rows": null,
            "height": null,
            "justify_content": null,
            "justify_items": null,
            "left": null,
            "margin": null,
            "max_height": null,
            "max_width": null,
            "min_height": null,
            "min_width": null,
            "object_fit": null,
            "object_position": null,
            "order": null,
            "overflow": null,
            "overflow_x": null,
            "overflow_y": null,
            "padding": null,
            "right": null,
            "top": null,
            "visibility": null,
            "width": null
          }
        },
        "794a17236fae41bc886d23e91c899f2c": {
          "model_module": "@jupyter-widgets/controls",
          "model_name": "DescriptionStyleModel",
          "model_module_version": "1.5.0",
          "state": {
            "_model_module": "@jupyter-widgets/controls",
            "_model_module_version": "1.5.0",
            "_model_name": "DescriptionStyleModel",
            "_view_count": null,
            "_view_module": "@jupyter-widgets/base",
            "_view_module_version": "1.2.0",
            "_view_name": "StyleView",
            "description_width": ""
          }
        }
      }
    }
  },
  "nbformat": 4,
  "nbformat_minor": 0
}